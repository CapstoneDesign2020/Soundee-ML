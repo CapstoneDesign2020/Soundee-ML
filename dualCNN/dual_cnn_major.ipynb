{
  "nbformat": 4,
  "nbformat_minor": 0,
  "metadata": {
    "colab": {
      "name": "dual_cnn_major.ipynb",
      "provenance": [],
      "collapsed_sections": [],
      "include_colab_link": true
    },
    "kernelspec": {
      "name": "python3",
      "display_name": "Python 3"
    },
    "accelerator": "GPU"
  },
  "cells": [
    {
      "cell_type": "markdown",
      "metadata": {
        "id": "view-in-github",
        "colab_type": "text"
      },
      "source": [
        "<a href=\"https://colab.research.google.com/github/brillantescene/Capstone_Design/blob/master/dual_cnn_major.ipynb\" target=\"_parent\"><img src=\"https://colab.research.google.com/assets/colab-badge.svg\" alt=\"Open In Colab\"/></a>"
      ]
    },
    {
      "cell_type": "code",
      "metadata": {
        "id": "j5tqb7qpdjFb",
        "colab_type": "code",
        "outputId": "83040f34-12b8-497c-d08e-ea6fc606bb49",
        "colab": {
          "base_uri": "https://localhost:8080/",
          "height": 34
        }
      },
      "source": [
        "import tensorflow as tf\n",
        "from tensorflow import keras #import keras\n",
        "from tensorflow.keras.utils import to_categorical\n",
        "from tensorflow.keras.layers import Dense, Flatten, Conv2D, Dropout, MaxPool2D\n",
        "import numpy as np\n",
        "from tensorflow.keras import Model\n",
        "from keras import optimizers\n",
        "\n",
        "\n",
        "#from keras.callbacks import EarlyStopping\n",
        "#from keras.callbacks import ModelCheckpoint\n",
        "\n",
        "import IPython.display as display\n",
        "from PIL import Image\n",
        "import matplotlib.pyplot as plt\n",
        "import os, shutil\n",
        "\n",
        "keras.__version__"
      ],
      "execution_count": 5,
      "outputs": [
        {
          "output_type": "execute_result",
          "data": {
            "text/plain": [
              "'2.3.0-tf'"
            ]
          },
          "metadata": {
            "tags": []
          },
          "execution_count": 5
        }
      ]
    },
    {
      "cell_type": "code",
      "metadata": {
        "id": "qqsmprALWnKL",
        "colab_type": "code",
        "colab": {
          "base_uri": "https://localhost:8080/",
          "height": 125
        },
        "outputId": "4e4c1053-7eda-4e9c-deab-ddb2448089a0"
      },
      "source": [
        "from google.colab import drive\n",
        "drive.mount('/content/gdrive')"
      ],
      "execution_count": 6,
      "outputs": [
        {
          "output_type": "stream",
          "text": [
            "Go to this URL in a browser: https://accounts.google.com/o/oauth2/auth?client_id=947318989803-6bn6qk8qdgf4n4g3pfee6491hc0brc4i.apps.googleusercontent.com&redirect_uri=urn%3aietf%3awg%3aoauth%3a2.0%3aoob&response_type=code&scope=email%20https%3a%2f%2fwww.googleapis.com%2fauth%2fdocs.test%20https%3a%2f%2fwww.googleapis.com%2fauth%2fdrive%20https%3a%2f%2fwww.googleapis.com%2fauth%2fdrive.photos.readonly%20https%3a%2f%2fwww.googleapis.com%2fauth%2fpeopleapi.readonly\n",
            "\n",
            "Enter your authorization code:\n",
            "··········\n",
            "Mounted at /content/gdrive\n"
          ],
          "name": "stdout"
        }
      ]
    },
    {
      "cell_type": "code",
      "metadata": {
        "id": "eVBWuc00K1bF",
        "colab_type": "code",
        "colab": {}
      },
      "source": [
        "learning_rate = 0.001\n",
        "training_epochs = 100\n",
        "batch_size = 4 #64\n",
        "target_size=(150, 150)"
      ],
      "execution_count": 0,
      "outputs": []
    },
    {
      "cell_type": "code",
      "metadata": {
        "id": "N9-WTzJ8dsOF",
        "colab_type": "code",
        "colab": {}
      },
      "source": [
        "original_dataset_dir = '/content/gdrive/My Drive/JOLJAACK2020/datasets/images'\n",
        "base_dir = '/content/gdrive/My Drive/JOLJAACK2020/datasets/images_small'\n",
        "\n",
        "# 훈련, 검증, 테스트 분할을 위한 디렉터리\n",
        "train_dir = os.path.join(base_dir, 'train')\n",
        "validation_dir = os.path.join(base_dir, 'validation')\n",
        "test_dir = os.path.join(base_dir, 'test')"
      ],
      "execution_count": 0,
      "outputs": []
    },
    {
      "cell_type": "code",
      "metadata": {
        "id": "21cxhUfmQwai",
        "colab_type": "code",
        "colab": {}
      },
      "source": [
        "if os.path.exists(base_dir):  \n",
        "    shutil.rmtree(base_dir)   \n",
        "os.mkdir(base_dir)\n",
        "os.mkdir(train_dir)\n",
        "os.mkdir(validation_dir)\n",
        "os.mkdir(test_dir)"
      ],
      "execution_count": 0,
      "outputs": []
    },
    {
      "cell_type": "code",
      "metadata": {
        "id": "GcACKy8IhBzy",
        "colab_type": "code",
        "colab": {}
      },
      "source": [
        "# training용 디렉터리\n",
        "train_vacuum_cleaner_dir = os.path.join(train_dir, 'vacuum_cleaner')\n",
        "train_toilet_flush_dir = os.path.join(train_dir, 'toilet_flush')\n",
        "train_door_knock_dir = os.path.join(train_dir, 'door_knock')\n",
        "train_baby_crying_dir = os.path.join(train_dir, 'baby_crying')\n",
        "train_clock_alarm_dir = os.path.join(train_dir, 'clock_alarm')"
      ],
      "execution_count": 0,
      "outputs": []
    },
    {
      "cell_type": "code",
      "metadata": {
        "id": "kUzKD5CTRJFG",
        "colab_type": "code",
        "colab": {}
      },
      "source": [
        "os.mkdir(train_vacuum_cleaner_dir)\n",
        "os.mkdir(train_toilet_flush_dir)\n",
        "os.mkdir(train_door_knock_dir)\n",
        "os.mkdir(train_baby_crying_dir)\n",
        "os.mkdir(train_clock_alarm_dir)"
      ],
      "execution_count": 0,
      "outputs": []
    },
    {
      "cell_type": "code",
      "metadata": {
        "id": "QYCcbIvgdsR7",
        "colab_type": "code",
        "colab": {}
      },
      "source": [
        "# validation용 디렉터리\n",
        "validation_vacuum_cleaner_dir = os.path.join(validation_dir, 'vacuum_cleaner')\n",
        "validation_toilet_flush_dir = os.path.join(validation_dir, 'toilet_flush')\n",
        "validation_door_knock_dir = os.path.join(validation_dir, 'door_knock')\n",
        "validation_baby_crying_dir = os.path.join(validation_dir, 'baby_crying')\n",
        "validation_clock_alarm_dir = os.path.join(validation_dir, 'clock_alarm')"
      ],
      "execution_count": 0,
      "outputs": []
    },
    {
      "cell_type": "code",
      "metadata": {
        "id": "TApbhnT4RJ6Y",
        "colab_type": "code",
        "colab": {}
      },
      "source": [
        "os.mkdir(validation_vacuum_cleaner_dir)\n",
        "os.mkdir(validation_toilet_flush_dir)\n",
        "os.mkdir(validation_door_knock_dir)\n",
        "os.mkdir(validation_baby_crying_dir)\n",
        "os.mkdir(validation_clock_alarm_dir)"
      ],
      "execution_count": 0,
      "outputs": []
    },
    {
      "cell_type": "code",
      "metadata": {
        "id": "-IEYmbd2dsaG",
        "colab_type": "code",
        "colab": {}
      },
      "source": [
        "# test용 디렉터리\n",
        "test_vacuum_cleaner_dir = os.path.join(test_dir, 'vacuum_cleaner')\n",
        "test_toilet_flush_dir = os.path.join(test_dir, 'toilet_flush')\n",
        "test_door_knock_dir = os.path.join(test_dir, 'door_knock')\n",
        "test_baby_crying_dir = os.path.join(test_dir, 'baby_crying')\n",
        "test_clock_alarm_dir = os.path.join(test_dir, 'clock_alarm')"
      ],
      "execution_count": 0,
      "outputs": []
    },
    {
      "cell_type": "code",
      "metadata": {
        "id": "FJBEtETERLDL",
        "colab_type": "code",
        "colab": {}
      },
      "source": [
        "os.mkdir(test_vacuum_cleaner_dir)\n",
        "os.mkdir(test_toilet_flush_dir)\n",
        "os.mkdir(test_door_knock_dir)\n",
        "os.mkdir(test_baby_crying_dir)\n",
        "os.mkdir(test_clock_alarm_dir)"
      ],
      "execution_count": 0,
      "outputs": []
    },
    {
      "cell_type": "code",
      "metadata": {
        "id": "cdrF1EE1dsdV",
        "colab_type": "code",
        "outputId": "ecb86697-2abe-42fd-e2ed-2321323980d8",
        "colab": {
          "base_uri": "https://localhost:8080/",
          "height": 34
        }
      },
      "source": [
        "print('훈련용 vacuum_cleaner 이미지 전체 개수:', len(os.listdir(train_vacuum_cleaner_dir)))"
      ],
      "execution_count": 12,
      "outputs": [
        {
          "output_type": "stream",
          "text": [
            "훈련용 vacuum_cleaner 이미지 전체 개수: 20\n"
          ],
          "name": "stdout"
        }
      ]
    },
    {
      "cell_type": "code",
      "metadata": {
        "id": "2OMEvMmVdshK",
        "colab_type": "code",
        "colab": {}
      },
      "source": [
        "##### conv 3, pooling 3\n",
        "class AcousticSoundModel(tf.keras.Model):\n",
        "    def __init__(self):\n",
        "        super(AcousticSoundModel, self).__init__()\n",
        "        self.conv1 = Conv2D(filters=64, kernel_size=[3, 3], padding='SAME', activation=tf.nn.relu)\n",
        "        self.drop1 = Dropout(rate=0.2)\n",
        "        self.pool1 = MaxPool2D(padding='SAME') ###### pooling 2x2. stride는 표기 x, 확인 ######\n",
        "        \n",
        "        self.conv2 = Conv2D(filters=64, kernel_size=[3, 3], padding='SAME', activation=tf.nn.relu)\n",
        "        self.drop2 = Dropout(rate=0.2) #20% dropout\n",
        "        self.pool2 = MaxPool2D(padding='SAME')\n",
        "        \n",
        "        self.conv3 = Conv2D(filters=64, kernel_size=[3, 3], padding='SAME', activation=tf.nn.relu)\n",
        "        self.drop3 = Dropout(rate=0.2) #20% dropout\n",
        "        self.pool3 = MaxPool2D(padding='SAME')\n",
        "        \n",
        "        self.pool3_flat = keras.layers.Flatten()\n",
        "        self.dense4 = Dense(units=128, activation=tf.nn.relu)\n",
        "        self.dense5 = Dense(units=5, activation=tf.nn.sigmoid) ### 일단 5. class 개수 추가되는 대로 변경\n",
        "        \n",
        "    def call(self, inputs, training=False):\n",
        "        net = self.conv1(inputs)\n",
        "        net = self.drop1(net)\n",
        "        net = self.pool1(net)\n",
        "        \n",
        "        net = self.conv2(net)\n",
        "        net = self.drop2(net)\n",
        "        net = self.pool2(net)\n",
        "        \n",
        "        net = self.conv3(net)\n",
        "        net = self.drop3(net)\n",
        "        net = self.pool3(net)\n",
        "        \n",
        "        net = self.pool3_flat(net)\n",
        "        net = self.dense4(net)\n",
        "        net = self.dense5(net) #\n",
        "        return net #\n",
        "        # return self.dense5(net)"
      ],
      "execution_count": 0,
      "outputs": []
    },
    {
      "cell_type": "code",
      "metadata": {
        "id": "2zOGixAvdsk_",
        "colab_type": "code",
        "colab": {}
      },
      "source": [
        "model = AcousticSoundModel()"
      ],
      "execution_count": 0,
      "outputs": []
    },
    {
      "cell_type": "code",
      "metadata": {
        "id": "f106T_nPJyzC",
        "colab_type": "code",
        "colab": {}
      },
      "source": [
        "model.compile(loss='categorical_crossentropy',\n",
        "              optimizer=keras.optimizers.Adam(lr=learning_rate),\n",
        "              metrics=['acc'])"
      ],
      "execution_count": 0,
      "outputs": []
    },
    {
      "cell_type": "code",
      "metadata": {
        "id": "-K5g3c0iJy3t",
        "colab_type": "code",
        "colab": {
          "base_uri": "https://localhost:8080/",
          "height": 52
        },
        "outputId": "129db1d8-417a-451b-a63f-37bcfa78d175"
      },
      "source": [
        "from keras.preprocessing.image import ImageDataGenerator\n",
        "\n",
        "train_datagen = ImageDataGenerator(rescale=1./255)\n",
        "test_datagen = ImageDataGenerator(rescale=1./255)\n",
        "\n",
        "train_generator = train_datagen.flow_from_directory(\n",
        "        train_dir, #target directory\n",
        "        target_size=target_size, #150 150\n",
        "        batch_size=batch_size,\n",
        "        class_mode='categorical')\n",
        "\n",
        "validation_generator = test_datagen.flow_from_directory(\n",
        "        validation_dir,\n",
        "        target_size=target_size,\n",
        "        batch_size=batch_size,\n",
        "        class_mode='categorical')"
      ],
      "execution_count": 17,
      "outputs": [
        {
          "output_type": "stream",
          "text": [
            "Found 100 images belonging to 5 classes.\n",
            "Found 50 images belonging to 5 classes.\n"
          ],
          "name": "stdout"
        }
      ]
    },
    {
      "cell_type": "code",
      "metadata": {
        "id": "-83b4FWXJy8T",
        "colab_type": "code",
        "colab": {
          "base_uri": "https://localhost:8080/",
          "height": 52
        },
        "outputId": "d17fa914-e3d0-4adb-d80d-b426133b7c42"
      },
      "source": [
        "for data_batch, labels_batch in train_generator:\n",
        "    print('batch data size:', data_batch.shape)\n",
        "    print('batch label size:', labels_batch.shape)\n",
        "    break"
      ],
      "execution_count": 18,
      "outputs": [
        {
          "output_type": "stream",
          "text": [
            "batch data size: (4, 150, 150, 3)\n",
            "batch label size: (4, 5)\n"
          ],
          "name": "stdout"
        }
      ]
    },
    {
      "cell_type": "code",
      "metadata": {
        "id": "ja0WCzHxJy1j",
        "colab_type": "code",
        "colab": {
          "base_uri": "https://localhost:8080/",
          "height": 1000
        },
        "outputId": "9465e66a-2f38-4f51-87df-5eaf4bbf57c4"
      },
      "source": [
        "history = model.fit_generator(\n",
        "      train_generator,\n",
        "      steps_per_epoch=25, # batch크기 4, 전체 200개 샘플이니까 25\n",
        "      epochs=training_epochs,\n",
        "      validation_data=validation_generator,\n",
        "      validation_steps=12)"
      ],
      "execution_count": 19,
      "outputs": [
        {
          "output_type": "stream",
          "text": [
            "WARNING:tensorflow:From <ipython-input-19-c66b6e01b719>:6: Model.fit_generator (from tensorflow.python.keras.engine.training) is deprecated and will be removed in a future version.\n",
            "Instructions for updating:\n",
            "Please use Model.fit, which supports generators.\n",
            "Epoch 1/100\n",
            "25/25 [==============================] - 74s 3s/step - loss: 1.7134 - acc: 0.2500 - val_loss: 1.5405 - val_acc: 0.5833\n",
            "Epoch 2/100\n",
            "25/25 [==============================] - 3s 129ms/step - loss: 1.5002 - acc: 0.3100 - val_loss: 1.4293 - val_acc: 0.3958\n",
            "Epoch 3/100\n",
            "25/25 [==============================] - 3s 129ms/step - loss: 1.2360 - acc: 0.4700 - val_loss: 1.1188 - val_acc: 0.6042\n",
            "Epoch 4/100\n",
            "25/25 [==============================] - 3s 129ms/step - loss: 1.1084 - acc: 0.4100 - val_loss: 1.0910 - val_acc: 0.5208\n",
            "Epoch 5/100\n",
            "25/25 [==============================] - 3s 128ms/step - loss: 0.9984 - acc: 0.6000 - val_loss: 0.9878 - val_acc: 0.8125\n",
            "Epoch 6/100\n",
            "25/25 [==============================] - 3s 128ms/step - loss: 0.8221 - acc: 0.6900 - val_loss: 1.0007 - val_acc: 0.7708\n",
            "Epoch 7/100\n",
            "25/25 [==============================] - 3s 130ms/step - loss: 0.7785 - acc: 0.7300 - val_loss: 0.7669 - val_acc: 0.8750\n",
            "Epoch 8/100\n",
            "25/25 [==============================] - 3s 130ms/step - loss: 0.8547 - acc: 0.7200 - val_loss: 0.8366 - val_acc: 0.7500\n",
            "Epoch 9/100\n",
            "25/25 [==============================] - 3s 130ms/step - loss: 0.8471 - acc: 0.6500 - val_loss: 1.0101 - val_acc: 0.6458\n",
            "Epoch 10/100\n",
            "25/25 [==============================] - 3s 130ms/step - loss: 0.5425 - acc: 0.7800 - val_loss: 0.6933 - val_acc: 0.8333\n",
            "Epoch 11/100\n",
            "25/25 [==============================] - 3s 130ms/step - loss: 0.4569 - acc: 0.7900 - val_loss: 1.0578 - val_acc: 0.7083\n",
            "Epoch 12/100\n",
            "25/25 [==============================] - 3s 130ms/step - loss: 0.5889 - acc: 0.7600 - val_loss: 0.6884 - val_acc: 0.8542\n",
            "Epoch 13/100\n",
            "25/25 [==============================] - 3s 128ms/step - loss: 0.4879 - acc: 0.8000 - val_loss: 0.6714 - val_acc: 0.8125\n",
            "Epoch 14/100\n",
            "25/25 [==============================] - 3s 131ms/step - loss: 0.4588 - acc: 0.8000 - val_loss: 0.5552 - val_acc: 0.9375\n",
            "Epoch 15/100\n",
            "25/25 [==============================] - 3s 129ms/step - loss: 0.8071 - acc: 0.8000 - val_loss: 0.9017 - val_acc: 0.6667\n",
            "Epoch 16/100\n",
            "25/25 [==============================] - 3s 129ms/step - loss: 0.5533 - acc: 0.8000 - val_loss: 0.5992 - val_acc: 0.8333\n",
            "Epoch 17/100\n",
            "25/25 [==============================] - 3s 131ms/step - loss: 0.3708 - acc: 0.8400 - val_loss: 0.4209 - val_acc: 0.9375\n",
            "Epoch 18/100\n",
            "25/25 [==============================] - 3s 130ms/step - loss: 0.2689 - acc: 0.9200 - val_loss: 0.5701 - val_acc: 0.8125\n",
            "Epoch 19/100\n",
            "25/25 [==============================] - 3s 130ms/step - loss: 0.3078 - acc: 0.8600 - val_loss: 0.3314 - val_acc: 0.9167\n",
            "Epoch 20/100\n",
            "25/25 [==============================] - 3s 129ms/step - loss: 0.2172 - acc: 0.8800 - val_loss: 0.3537 - val_acc: 0.8958\n",
            "Epoch 21/100\n",
            "25/25 [==============================] - 3s 130ms/step - loss: 0.2042 - acc: 0.8700 - val_loss: 0.4608 - val_acc: 0.8750\n",
            "Epoch 22/100\n",
            "25/25 [==============================] - 3s 127ms/step - loss: 0.2285 - acc: 0.9000 - val_loss: 0.5631 - val_acc: 0.8333\n",
            "Epoch 23/100\n",
            "25/25 [==============================] - 3s 127ms/step - loss: 0.3368 - acc: 0.8400 - val_loss: 0.5175 - val_acc: 0.8750\n",
            "Epoch 24/100\n",
            "25/25 [==============================] - 3s 128ms/step - loss: 0.2132 - acc: 0.9100 - val_loss: 0.3936 - val_acc: 0.8750\n",
            "Epoch 25/100\n",
            "25/25 [==============================] - 3s 126ms/step - loss: 0.4605 - acc: 0.8700 - val_loss: 0.4682 - val_acc: 0.7500\n",
            "Epoch 26/100\n",
            "25/25 [==============================] - 3s 127ms/step - loss: 0.2876 - acc: 0.9200 - val_loss: 0.6477 - val_acc: 0.7917\n",
            "Epoch 27/100\n",
            "25/25 [==============================] - 3s 127ms/step - loss: 0.2280 - acc: 0.9300 - val_loss: 0.3721 - val_acc: 0.8125\n",
            "Epoch 28/100\n",
            "25/25 [==============================] - 3s 127ms/step - loss: 0.1756 - acc: 0.9300 - val_loss: 0.3949 - val_acc: 0.8333\n",
            "Epoch 29/100\n",
            "25/25 [==============================] - 3s 125ms/step - loss: 0.2180 - acc: 0.9400 - val_loss: 0.4878 - val_acc: 0.8125\n",
            "Epoch 30/100\n",
            "25/25 [==============================] - 3s 126ms/step - loss: 0.1731 - acc: 0.9400 - val_loss: 0.5194 - val_acc: 0.7917\n",
            "Epoch 31/100\n",
            "25/25 [==============================] - 3s 125ms/step - loss: 0.1161 - acc: 0.9600 - val_loss: 0.3486 - val_acc: 0.8542\n",
            "Epoch 32/100\n",
            "25/25 [==============================] - 3s 126ms/step - loss: 0.3836 - acc: 0.9100 - val_loss: 0.5937 - val_acc: 0.7917\n",
            "Epoch 33/100\n",
            "25/25 [==============================] - 3s 123ms/step - loss: 0.6026 - acc: 0.7900 - val_loss: 1.0486 - val_acc: 0.5625\n",
            "Epoch 34/100\n",
            "25/25 [==============================] - 3s 126ms/step - loss: 0.5206 - acc: 0.8100 - val_loss: 0.5226 - val_acc: 0.8333\n",
            "Epoch 35/100\n",
            "25/25 [==============================] - 3s 124ms/step - loss: 0.1939 - acc: 0.9200 - val_loss: 0.3533 - val_acc: 0.9167\n",
            "Epoch 36/100\n",
            "25/25 [==============================] - 3s 127ms/step - loss: 0.2051 - acc: 0.9300 - val_loss: 0.3854 - val_acc: 0.7917\n",
            "Epoch 37/100\n",
            "25/25 [==============================] - 3s 129ms/step - loss: 0.1516 - acc: 0.9200 - val_loss: 0.2374 - val_acc: 0.8958\n",
            "Epoch 38/100\n",
            "25/25 [==============================] - 3s 129ms/step - loss: 0.0788 - acc: 0.9500 - val_loss: 0.3916 - val_acc: 0.8125\n",
            "Epoch 39/100\n",
            "25/25 [==============================] - 3s 126ms/step - loss: 0.0565 - acc: 0.9700 - val_loss: 0.3991 - val_acc: 0.9167\n",
            "Epoch 40/100\n",
            "25/25 [==============================] - 3s 125ms/step - loss: 0.4063 - acc: 0.8900 - val_loss: 0.6364 - val_acc: 0.7292\n",
            "Epoch 41/100\n",
            "25/25 [==============================] - 3s 126ms/step - loss: 0.2408 - acc: 0.8800 - val_loss: 0.4915 - val_acc: 0.8125\n",
            "Epoch 42/100\n",
            "25/25 [==============================] - 3s 125ms/step - loss: 0.5157 - acc: 0.8300 - val_loss: 0.8273 - val_acc: 0.6875\n",
            "Epoch 43/100\n",
            "25/25 [==============================] - 3s 128ms/step - loss: 0.2987 - acc: 0.9300 - val_loss: 0.5199 - val_acc: 0.8333\n",
            "Epoch 44/100\n",
            "25/25 [==============================] - 3s 129ms/step - loss: 0.1019 - acc: 0.9500 - val_loss: 0.3005 - val_acc: 0.9375\n",
            "Epoch 45/100\n",
            "25/25 [==============================] - 3s 125ms/step - loss: 0.1001 - acc: 0.9400 - val_loss: 0.5004 - val_acc: 0.7708\n",
            "Epoch 46/100\n",
            "25/25 [==============================] - 3s 127ms/step - loss: 0.1508 - acc: 0.9700 - val_loss: 0.4719 - val_acc: 0.8125\n",
            "Epoch 47/100\n",
            "25/25 [==============================] - 3s 128ms/step - loss: 0.0769 - acc: 0.9800 - val_loss: 0.3691 - val_acc: 0.7917\n",
            "Epoch 48/100\n",
            "25/25 [==============================] - 3s 125ms/step - loss: 0.0421 - acc: 0.9900 - val_loss: 0.6357 - val_acc: 0.7917\n",
            "Epoch 49/100\n",
            "25/25 [==============================] - 3s 125ms/step - loss: 0.0523 - acc: 0.9800 - val_loss: 0.4413 - val_acc: 0.8333\n",
            "Epoch 50/100\n",
            "25/25 [==============================] - 3s 127ms/step - loss: 0.0302 - acc: 0.9900 - val_loss: 0.7223 - val_acc: 0.8125\n",
            "Epoch 51/100\n",
            "25/25 [==============================] - 3s 126ms/step - loss: 0.0341 - acc: 0.9900 - val_loss: 0.7216 - val_acc: 0.7917\n",
            "Epoch 52/100\n",
            "25/25 [==============================] - 3s 125ms/step - loss: 0.3042 - acc: 0.9000 - val_loss: 0.8324 - val_acc: 0.6458\n",
            "Epoch 53/100\n",
            "25/25 [==============================] - 3s 125ms/step - loss: 0.4101 - acc: 0.8700 - val_loss: 0.8235 - val_acc: 0.7292\n",
            "Epoch 54/100\n",
            "25/25 [==============================] - 3s 125ms/step - loss: 0.1685 - acc: 0.9300 - val_loss: 1.1018 - val_acc: 0.7083\n",
            "Epoch 55/100\n",
            "25/25 [==============================] - 3s 124ms/step - loss: 0.1783 - acc: 0.9400 - val_loss: 0.5564 - val_acc: 0.8125\n",
            "Epoch 56/100\n",
            "25/25 [==============================] - 3s 123ms/step - loss: 0.0503 - acc: 0.9800 - val_loss: 0.9657 - val_acc: 0.7292\n",
            "Epoch 57/100\n",
            "25/25 [==============================] - 3s 124ms/step - loss: 0.4159 - acc: 0.9400 - val_loss: 0.8588 - val_acc: 0.6667\n",
            "Epoch 58/100\n",
            "25/25 [==============================] - 3s 124ms/step - loss: 0.6118 - acc: 0.8100 - val_loss: 0.8228 - val_acc: 0.7917\n",
            "Epoch 59/100\n",
            "25/25 [==============================] - 3s 123ms/step - loss: 0.2162 - acc: 0.9300 - val_loss: 0.8292 - val_acc: 0.7917\n",
            "Epoch 60/100\n",
            "25/25 [==============================] - 3s 124ms/step - loss: 0.2031 - acc: 0.9000 - val_loss: 1.0218 - val_acc: 0.8125\n",
            "Epoch 61/100\n",
            "25/25 [==============================] - 3s 124ms/step - loss: 0.0722 - acc: 0.9700 - val_loss: 0.4707 - val_acc: 0.8542\n",
            "Epoch 62/100\n",
            "25/25 [==============================] - 3s 123ms/step - loss: 0.1126 - acc: 0.9800 - val_loss: 0.8094 - val_acc: 0.7500\n",
            "Epoch 63/100\n",
            "25/25 [==============================] - 3s 124ms/step - loss: 0.0444 - acc: 0.9700 - val_loss: 1.0274 - val_acc: 0.8542\n",
            "Epoch 64/100\n",
            "25/25 [==============================] - 3s 123ms/step - loss: 0.2522 - acc: 0.9500 - val_loss: 0.5747 - val_acc: 0.8125\n",
            "Epoch 65/100\n",
            "25/25 [==============================] - 3s 124ms/step - loss: 0.0768 - acc: 0.9700 - val_loss: 0.6271 - val_acc: 0.8125\n",
            "Epoch 66/100\n",
            "25/25 [==============================] - 3s 123ms/step - loss: 0.0729 - acc: 0.9700 - val_loss: 1.3011 - val_acc: 0.7083\n",
            "Epoch 67/100\n",
            "25/25 [==============================] - 3s 124ms/step - loss: 0.3726 - acc: 0.9000 - val_loss: 1.7005 - val_acc: 0.5208\n",
            "Epoch 68/100\n",
            "25/25 [==============================] - 3s 123ms/step - loss: 0.5144 - acc: 0.8600 - val_loss: 0.7874 - val_acc: 0.7708\n",
            "Epoch 69/100\n",
            "25/25 [==============================] - 3s 125ms/step - loss: 0.3193 - acc: 0.9300 - val_loss: 0.5891 - val_acc: 0.7500\n",
            "Epoch 70/100\n",
            "25/25 [==============================] - 3s 125ms/step - loss: 0.0899 - acc: 0.9700 - val_loss: 0.4395 - val_acc: 0.8542\n",
            "Epoch 71/100\n",
            "25/25 [==============================] - 3s 124ms/step - loss: 0.0669 - acc: 0.9700 - val_loss: 0.7626 - val_acc: 0.7708\n",
            "Epoch 72/100\n",
            "25/25 [==============================] - 3s 123ms/step - loss: 0.1516 - acc: 0.9600 - val_loss: 0.4923 - val_acc: 0.8333\n",
            "Epoch 73/100\n",
            "25/25 [==============================] - 3s 124ms/step - loss: 0.0583 - acc: 0.9700 - val_loss: 0.4566 - val_acc: 0.8333\n",
            "Epoch 74/100\n",
            "25/25 [==============================] - 3s 125ms/step - loss: 0.0343 - acc: 0.9900 - val_loss: 0.6874 - val_acc: 0.8542\n",
            "Epoch 75/100\n",
            "25/25 [==============================] - 3s 124ms/step - loss: 0.0254 - acc: 0.9900 - val_loss: 0.4451 - val_acc: 0.8750\n",
            "Epoch 76/100\n",
            "25/25 [==============================] - 3s 124ms/step - loss: 0.0225 - acc: 0.9900 - val_loss: 0.6966 - val_acc: 0.8542\n",
            "Epoch 77/100\n",
            "25/25 [==============================] - 3s 125ms/step - loss: 0.0193 - acc: 0.9900 - val_loss: 0.6674 - val_acc: 0.8542\n",
            "Epoch 78/100\n",
            "25/25 [==============================] - 3s 124ms/step - loss: 0.0154 - acc: 0.9900 - val_loss: 0.6263 - val_acc: 0.8750\n",
            "Epoch 79/100\n",
            "25/25 [==============================] - 3s 124ms/step - loss: 0.0117 - acc: 1.0000 - val_loss: 0.6283 - val_acc: 0.8542\n",
            "Epoch 80/100\n",
            "25/25 [==============================] - 3s 123ms/step - loss: 0.0097 - acc: 1.0000 - val_loss: 0.6253 - val_acc: 0.8750\n",
            "Epoch 81/100\n",
            "25/25 [==============================] - 3s 123ms/step - loss: 0.0072 - acc: 1.0000 - val_loss: 0.4877 - val_acc: 0.8958\n",
            "Epoch 82/100\n",
            "25/25 [==============================] - 3s 123ms/step - loss: 0.0044 - acc: 1.0000 - val_loss: 0.6257 - val_acc: 0.8958\n",
            "Epoch 83/100\n",
            "25/25 [==============================] - 3s 128ms/step - loss: 0.0030 - acc: 1.0000 - val_loss: 0.6476 - val_acc: 0.8542\n",
            "Epoch 84/100\n",
            "25/25 [==============================] - 3s 122ms/step - loss: 0.0019 - acc: 1.0000 - val_loss: 0.6173 - val_acc: 0.8750\n",
            "Epoch 85/100\n",
            "25/25 [==============================] - 3s 123ms/step - loss: 0.0017 - acc: 1.0000 - val_loss: 0.6382 - val_acc: 0.8542\n",
            "Epoch 86/100\n",
            "25/25 [==============================] - 3s 123ms/step - loss: 0.0011 - acc: 1.0000 - val_loss: 0.6315 - val_acc: 0.8542\n",
            "Epoch 87/100\n",
            "25/25 [==============================] - 3s 123ms/step - loss: 0.0012 - acc: 1.0000 - val_loss: 0.6189 - val_acc: 0.8750\n",
            "Epoch 88/100\n",
            "25/25 [==============================] - 3s 125ms/step - loss: 8.7865e-04 - acc: 1.0000 - val_loss: 0.6292 - val_acc: 0.8750\n",
            "Epoch 89/100\n",
            "25/25 [==============================] - 3s 126ms/step - loss: 0.0010 - acc: 1.0000 - val_loss: 0.6488 - val_acc: 0.8542\n",
            "Epoch 90/100\n",
            "25/25 [==============================] - 3s 125ms/step - loss: 6.8418e-04 - acc: 1.0000 - val_loss: 0.6315 - val_acc: 0.8542\n",
            "Epoch 91/100\n",
            "25/25 [==============================] - 3s 126ms/step - loss: 6.6627e-04 - acc: 1.0000 - val_loss: 0.6267 - val_acc: 0.8542\n",
            "Epoch 92/100\n",
            "25/25 [==============================] - 3s 127ms/step - loss: 7.2390e-04 - acc: 1.0000 - val_loss: 0.5941 - val_acc: 0.8542\n",
            "Epoch 93/100\n",
            "25/25 [==============================] - 3s 127ms/step - loss: 6.8360e-04 - acc: 1.0000 - val_loss: 0.4598 - val_acc: 0.8958\n",
            "Epoch 94/100\n",
            "25/25 [==============================] - 3s 123ms/step - loss: 8.7007e-04 - acc: 1.0000 - val_loss: 0.9412 - val_acc: 0.8333\n",
            "Epoch 95/100\n",
            "25/25 [==============================] - 3s 121ms/step - loss: 7.0072e-04 - acc: 1.0000 - val_loss: 0.9280 - val_acc: 0.8333\n",
            "Epoch 96/100\n",
            "25/25 [==============================] - 3s 123ms/step - loss: 4.2446e-04 - acc: 1.0000 - val_loss: 0.8909 - val_acc: 0.8542\n",
            "Epoch 97/100\n",
            "25/25 [==============================] - 3s 122ms/step - loss: 3.9587e-04 - acc: 1.0000 - val_loss: 0.8344 - val_acc: 0.8542\n",
            "Epoch 98/100\n",
            "25/25 [==============================] - 3s 122ms/step - loss: 3.8980e-04 - acc: 1.0000 - val_loss: 0.9287 - val_acc: 0.8333\n",
            "Epoch 99/100\n",
            "25/25 [==============================] - 3s 121ms/step - loss: 3.5942e-04 - acc: 1.0000 - val_loss: 0.5876 - val_acc: 0.8542\n",
            "Epoch 100/100\n",
            "25/25 [==============================] - 3s 121ms/step - loss: 3.9245e-04 - acc: 1.0000 - val_loss: 0.9099 - val_acc: 0.8333\n"
          ],
          "name": "stdout"
        }
      ]
    },
    {
      "cell_type": "code",
      "metadata": {
        "id": "Kxxyqnphdsyp",
        "colab_type": "code",
        "colab": {}
      },
      "source": [
        "# 훈련 끝나면 호델 저장\n",
        "model.save_weights('images_small_2', save_format='tf')"
      ],
      "execution_count": 0,
      "outputs": []
    },
    {
      "cell_type": "code",
      "metadata": {
        "id": "6Q68BCqqMamg",
        "colab_type": "code",
        "colab": {
          "base_uri": "https://localhost:8080/",
          "height": 545
        },
        "outputId": "a9c0d8bf-4e57-45c2-dbf9-bd6cd2f38f6b"
      },
      "source": [
        "#훈련 데이터와 검증 데이터에 대한 모델의 손실과 정확도를 그래프\n",
        "acc = history.history['acc']\n",
        "val_acc = history.history['val_acc']\n",
        "loss = history.history['loss']\n",
        "val_loss = history.history['val_loss']\n",
        "\n",
        "epochs = range(len(acc))\n",
        "\n",
        "plt.plot(epochs, acc, 'bo', label='Training acc')\n",
        "plt.plot(epochs, val_acc, 'b', label='Validation acc')\n",
        "plt.title('Training and validation accuracy')\n",
        "plt.legend()\n",
        "\n",
        "plt.figure()\n",
        "\n",
        "plt.plot(epochs, loss, 'bo', label='Training loss')\n",
        "plt.plot(epochs, val_loss, 'b', label='Validation loss')\n",
        "plt.title('Training and validation loss')\n",
        "plt.legend()\n",
        "\n",
        "plt.show()"
      ],
      "execution_count": 21,
      "outputs": [
        {
          "output_type": "display_data",
          "data": {
            "image/png": "[encoded data removed]",
            "text/plain": [
              "<Figure size 432x288 with 1 Axes>"
            ]
          },
          "metadata": {
            "tags": [],
            "needs_background": "light"
          }
        },
        {
          "output_type": "display_data",
          "data": {
            "image/png": "[encoded data removed]",
            "text/plain": [
              "<Figure size 432x288 with 1 Axes>"
            ]
          },
          "metadata": {
            "tags": [],
            "needs_background": "light"
          }
        }
      ]
    },
    {
      "cell_type": "code",
      "metadata": {
        "id": "D9esXv38Map6",
        "colab_type": "code",
        "colab": {}
      },
      "source": [
        ""
      ],
      "execution_count": 0,
      "outputs": []
    }
  ]
}