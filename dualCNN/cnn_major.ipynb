{
  "nbformat": 4,
  "nbformat_minor": 0,
  "metadata": {
    "colab": {
      "name": "cnn_major.ipynb",
      "provenance": [],
      "collapsed_sections": []
    },
    "kernelspec": {
      "name": "python3",
      "display_name": "Python 3"
    },
    "accelerator": "GPU"
  },
  "cells": [
    {
      "cell_type": "markdown",
      "metadata": {
        "id": "T3gGvshmtgvH",
        "colab_type": "text"
      },
      "source": [
        "## Set up"
      ]
    },
    {
      "cell_type": "code",
      "metadata": {
        "id": "v72-5GbJthzq",
        "colab_type": "code",
        "colab": {}
      },
      "source": [
        "import tensorflow as tf"
      ],
      "execution_count": 0,
      "outputs": []
    },
    {
      "cell_type": "code",
      "metadata": {
        "id": "cqihsPL5aceV",
        "colab_type": "code",
        "colab": {}
      },
      "source": [
        "AUTOTUNE = tf.data.experimental.AUTOTUNE\n",
        "import IPython.display as display\n",
        "from PIL import Image\n",
        "import numpy as np\n",
        "import matplotlib.pyplot as plt\n",
        "import os"
      ],
      "execution_count": 0,
      "outputs": []
    },
    {
      "cell_type": "code",
      "metadata": {
        "id": "V2cVUHtnIR8x",
        "colab_type": "code",
        "outputId": "b5357466-fde3-492c-8429-dd879cc7468b",
        "colab": {
          "base_uri": "https://localhost:8080/",
          "height": 34
        }
      },
      "source": [
        "from tensorflow import keras #import keras\n",
        "from tensorflow.keras import Model\n",
        "from keras import optimizers\n",
        "from tensorflow.keras.utils import to_categorical\n",
        "from tensorflow.keras.layers import Dense, Flatten, Conv2D, Dropout, MaxPool2D"
      ],
      "execution_count": 3,
      "outputs": [
        {
          "output_type": "stream",
          "text": [
            "Using TensorFlow backend.\n"
          ],
          "name": "stderr"
        }
      ]
    },
    {
      "cell_type": "code",
      "metadata": {
        "id": "v3lvAw2x_Vf1",
        "colab_type": "code",
        "colab": {}
      },
      "source": [
        "from keras.callbacks import EarlyStopping, ModelCheckpoint\n",
        "from keras.models import load_model"
      ],
      "execution_count": 0,
      "outputs": []
    },
    {
      "cell_type": "code",
      "metadata": {
        "id": "-sFsbh-saeHa",
        "colab_type": "code",
        "colab": {}
      },
      "source": [
        "import pathlib"
      ],
      "execution_count": 0,
      "outputs": []
    },
    {
      "cell_type": "markdown",
      "metadata": {
        "id": "0PXMeVHKtJ_3",
        "colab_type": "text"
      },
      "source": [
        "## Retrieve the images"
      ]
    },
    {
      "cell_type": "code",
      "metadata": {
        "id": "Nem5TSq7UpKm",
        "colab_type": "code",
        "outputId": "45761cdd-4c70-4a3c-9ca0-600918ddde97",
        "colab": {
          "base_uri": "https://localhost:8080/",
          "height": 72
        }
      },
      "source": [
        "data_dir = tf.keras.utils.get_file(origin='https://github.com/CapstoneDesign2020/machineLearning/raw/master/dataPreprocessing/5_class_img.tgz', \n",
        "                                   fname='images', extract=True)\n",
        "data_dir = pathlib.Path(data_dir)"
      ],
      "execution_count": 6,
      "outputs": [
        {
          "output_type": "stream",
          "text": [
            "Downloading data from https://github.com/CapstoneDesign2020/machineLearning/raw/master/dataPreprocessing/5_class_img.tgz\n",
            "136208384/136201268 [==============================] - 1s 0us/step\n"
          ],
          "name": "stdout"
        }
      ]
    },
    {
      "cell_type": "code",
      "metadata": {
        "id": "8KHpiahFeCt3",
        "colab_type": "code",
        "colab": {}
      },
      "source": [
        "data_dir = pathlib.PosixPath(\"/root/.keras/datasets/5class_img\")"
      ],
      "execution_count": 0,
      "outputs": []
    },
    {
      "cell_type": "code",
      "metadata": {
        "id": "dnLszM4OUpWx",
        "colab_type": "code",
        "outputId": "d2a39cab-bdf9-4a17-97d6-1dbd343feeb9",
        "colab": {
          "base_uri": "https://localhost:8080/",
          "height": 34
        }
      },
      "source": [
        "print(data_dir)"
      ],
      "execution_count": 11,
      "outputs": [
        {
          "output_type": "stream",
          "text": [
            "/root/.keras/datasets/5class_img\n"
          ],
          "name": "stdout"
        }
      ]
    },
    {
      "cell_type": "code",
      "metadata": {
        "id": "zb-0E4I_U2tr",
        "colab_type": "code",
        "outputId": "678be5ad-52f5-468e-92d3-2eff09108078",
        "colab": {
          "base_uri": "https://localhost:8080/",
          "height": 34
        }
      },
      "source": [
        "image_count = len(list(data_dir.glob('*/*.png')))\n",
        "image_count"
      ],
      "execution_count": 12,
      "outputs": [
        {
          "output_type": "execute_result",
          "data": {
            "text/plain": [
              "5638"
            ]
          },
          "metadata": {
            "tags": []
          },
          "execution_count": 12
        }
      ]
    },
    {
      "cell_type": "code",
      "metadata": {
        "id": "zBe2LmjWA2-p",
        "colab_type": "code",
        "outputId": "85dcc84a-adfc-4145-a5e4-b527347c5fab",
        "colab": {
          "base_uri": "https://localhost:8080/",
          "height": 34
        }
      },
      "source": [
        "CLASS_NAMES = np.array([item.name for item in data_dir.glob('*')])\n",
        "CLASS_NAMES"
      ],
      "execution_count": 13,
      "outputs": [
        {
          "output_type": "execute_result",
          "data": {
            "text/plain": [
              "array(['motor', 'drop', 'water', 'babycrying', 'dog'], dtype='<U10')"
            ]
          },
          "metadata": {
            "tags": []
          },
          "execution_count": 13
        }
      ]
    },
    {
      "cell_type": "markdown",
      "metadata": {
        "id": "MnDKKziGu7is",
        "colab_type": "text"
      },
      "source": [
        "## Load using tf.data"
      ]
    },
    {
      "cell_type": "code",
      "metadata": {
        "id": "nqHUnO7SA3D2",
        "colab_type": "code",
        "colab": {}
      },
      "source": [
        "list_ds = tf.data.Dataset.list_files(str(data_dir/'*/*'))"
      ],
      "execution_count": 0,
      "outputs": []
    },
    {
      "cell_type": "code",
      "metadata": {
        "id": "sweMPoW8A3G9",
        "colab_type": "code",
        "outputId": "f1644820-aaad-46ea-b977-631c4eba72de",
        "colab": {
          "base_uri": "https://localhost:8080/",
          "height": 105
        }
      },
      "source": [
        "for f in list_ds.take(5):\n",
        "  print(f.numpy())"
      ],
      "execution_count": 15,
      "outputs": [
        {
          "output_type": "stream",
          "text": [
            "b'/root/.keras/datasets/5class_img/motor/0-923.png'\n",
            "b'/root/.keras/datasets/5class_img/drop/3-24.png'\n",
            "b'/root/.keras/datasets/5class_img/water/1-927.png'\n",
            "b'/root/.keras/datasets/5class_img/water/1-570.png'\n",
            "b'/root/.keras/datasets/5class_img/motor/0-20.png'\n"
          ],
          "name": "stdout"
        }
      ]
    },
    {
      "cell_type": "code",
      "metadata": {
        "id": "0BzV4A8qp9e4",
        "colab_type": "code",
        "colab": {}
      },
      "source": [
        "train_num = int(image_count * 0.7)\n",
        "test_num = int(image_count * 0.2)\n",
        "val_num = int(image_count * 0.1)"
      ],
      "execution_count": 0,
      "outputs": []
    },
    {
      "cell_type": "code",
      "metadata": {
        "id": "-466UMvqjZy4",
        "colab_type": "code",
        "colab": {}
      },
      "source": [
        "learning_rate = 0.001\n",
        "training_epochs = 100\n",
        "BATCH_SIZE = 64\n",
        "IMG_HEIGHT = 224\n",
        "IMG_WIDTH = 224\n",
        "STEPS_PER_EPOCH = np.ceil(image_count/BATCH_SIZE)\n",
        "VALIDATION_STEPS = np.ceil(val_num/BATCH_SIZE)\n",
        "TEST_STEPS = np.ceil(test_num/BATCH_SIZE)"
      ],
      "execution_count": 0,
      "outputs": []
    },
    {
      "cell_type": "markdown",
      "metadata": {
        "id": "AaGDtC97vYYq",
        "colab_type": "text"
      },
      "source": [
        "파일 경로를 `(img, label)`쌍으로 변환하는 tensorflow 함수"
      ]
    },
    {
      "cell_type": "code",
      "metadata": {
        "id": "toY5Dc4jA3NG",
        "colab_type": "code",
        "colab": {}
      },
      "source": [
        "def get_label(file_path):\n",
        "  #path를 path 구성 요소 목록으로 변환\n",
        "  parts = tf.strings.split(file_path, os.path.sep)\n",
        "  # 마지막 두 번째가 클래스 디렉터리임\n",
        "  return parts[-2] == CLASS_NAMES"
      ],
      "execution_count": 0,
      "outputs": []
    },
    {
      "cell_type": "code",
      "metadata": {
        "id": "fsRR3llDA3QP",
        "colab_type": "code",
        "colab": {}
      },
      "source": [
        "def decode_img(img):\n",
        "  # 압축된 문자열을 3D uint8 텐서로 변환\n",
        "  img = tf.image.decode_png(img, channels=3)\n",
        "  # convert_image_dtype로 [0,1] 범위의 float로 변환\n",
        "  img = tf.image.convert_image_dtype(img, tf.float32)\n",
        "  # 이미지 크기를 원하는 크기로 조정\n",
        "  return tf.image.resize(img, [IMG_WIDTH, IMG_HEIGHT])"
      ],
      "execution_count": 0,
      "outputs": []
    },
    {
      "cell_type": "code",
      "metadata": {
        "id": "NE6-d5_XA3LG",
        "colab_type": "code",
        "colab": {}
      },
      "source": [
        "def process_path(file_path):\n",
        "  label = get_label(file_path)\n",
        "  # 파일에서 raw data를 문자열로 로드\n",
        "  img = tf.io.read_file(file_path)\n",
        "  img = decode_img(img)\n",
        "  return img, label"
      ],
      "execution_count": 0,
      "outputs": []
    },
    {
      "cell_type": "markdown",
      "metadata": {
        "id": "1PhQBMVGi7yx",
        "colab_type": "text"
      },
      "source": [
        "`image, label` 쌍 데이터셋 만들기 위해 `Dataset.map`사용하기"
      ]
    },
    {
      "cell_type": "code",
      "metadata": {
        "id": "bx0S5tVpi6sU",
        "colab_type": "code",
        "colab": {}
      },
      "source": [
        "# 이미지가 병렬로 로드/처리되도록 'num_parallel_calls'를 설정한다.\n",
        "labeled_ds = list_ds.map(process_path, num_parallel_calls=AUTOTUNE)"
      ],
      "execution_count": 0,
      "outputs": []
    },
    {
      "cell_type": "code",
      "metadata": {
        "id": "v9USZoENjjey",
        "colab_type": "code",
        "outputId": "36eeb564-104f-4046-a2f6-fe2a34c5658a",
        "colab": {
          "base_uri": "https://localhost:8080/",
          "height": 52
        }
      },
      "source": [
        "for image, label in labeled_ds.take(1):\n",
        "  print(\"Image shape: \", image.numpy().shape)\n",
        "  print(\"Label: \", label.numpy())"
      ],
      "execution_count": 22,
      "outputs": [
        {
          "output_type": "stream",
          "text": [
            "Image shape:  (224, 224, 3)\n",
            "Label:  [ True False False False False]\n"
          ],
          "name": "stdout"
        }
      ]
    },
    {
      "cell_type": "code",
      "metadata": {
        "id": "jsM0-darUlR0",
        "colab_type": "code",
        "colab": {}
      },
      "source": [
        "train_ = labeled_ds.take(train_num)\n",
        "test_ = labeled_ds.take(test_num)\n",
        "val_ = labeled_ds.take(val_num)"
      ],
      "execution_count": 0,
      "outputs": []
    },
    {
      "cell_type": "code",
      "metadata": {
        "id": "6RbB9tNCVrma",
        "colab_type": "code",
        "outputId": "0f7e254e-e3bc-4745-fff5-9f0e0518dd35",
        "colab": {
          "base_uri": "https://localhost:8080/",
          "height": 193
        }
      },
      "source": [
        "for image, label in train_.take(5):\n",
        "  print(\"Image shape: \", image.numpy().shape)\n",
        "  print(\"Label: \", label.numpy())"
      ],
      "execution_count": 24,
      "outputs": [
        {
          "output_type": "stream",
          "text": [
            "Image shape:  (224, 224, 3)\n",
            "Label:  [False False False  True False]\n",
            "Image shape:  (224, 224, 3)\n",
            "Label:  [False False False  True False]\n",
            "Image shape:  (224, 224, 3)\n",
            "Label:  [False False  True False False]\n",
            "Image shape:  (224, 224, 3)\n",
            "Label:  [False  True False False False]\n",
            "Image shape:  (224, 224, 3)\n",
            "Label:  [ True False False False False]\n"
          ],
          "name": "stdout"
        }
      ]
    },
    {
      "cell_type": "code",
      "metadata": {
        "id": "Qwcws5Q0-dt-",
        "colab_type": "code",
        "colab": {}
      },
      "source": [
        "def prepare_for_training(ds, cache=True, shuffle_buffer_size=1000):\n",
        "  # 이것은 작은 데이터 집합으로, 한 번만 로드하여 메모리에 보관한다.\n",
        "  # 데이터셋의 사전 처리 작업을 캐싱하기 위해 '.cache(filename)' 사용\n",
        "  if cache:\n",
        "    if isinstance(cache, str):\n",
        "      ds = ds.cache(cache)\n",
        "    else:\n",
        "      ds = ds.cache()\n",
        "\n",
        "  ds = ds.shuffle(buffer_size=shuffle_buffer_size)\n",
        "\n",
        "  ds = ds.repeat()\n",
        "  ds = ds.batch(BATCH_SIZE)\n",
        "\n",
        "  ds = ds.prefetch(buffer_size=AUTOTUNE)\n",
        "\n",
        "  return ds"
      ],
      "execution_count": 0,
      "outputs": []
    },
    {
      "cell_type": "code",
      "metadata": {
        "id": "rm3wPuyOYdCL",
        "colab_type": "code",
        "colab": {}
      },
      "source": [
        "train_ds = prepare_for_training(train_)\n",
        "test_ds = prepare_for_training(test_)\n",
        "val_ds = prepare_for_training(val_)"
      ],
      "execution_count": 0,
      "outputs": []
    },
    {
      "cell_type": "code",
      "metadata": {
        "id": "u5aLDoC1aIru",
        "colab_type": "code",
        "outputId": "c04b181e-0ae8-4f07-c9a0-e7844f25318c",
        "colab": {
          "base_uri": "https://localhost:8080/",
          "height": 52
        }
      },
      "source": [
        "for image_batch, labels_batch in train_ds:\n",
        "  print('batch data size:', image_batch.shape)\n",
        "  print('batch label size:', labels_batch.shape)\n",
        "  break"
      ],
      "execution_count": 27,
      "outputs": [
        {
          "output_type": "stream",
          "text": [
            "batch data size: (64, 224, 224, 3)\n",
            "batch label size: (64, 5)\n"
          ],
          "name": "stdout"
        }
      ]
    },
    {
      "cell_type": "markdown",
      "metadata": {
        "id": "b_PhDBif3wZ9",
        "colab_type": "text"
      },
      "source": [
        "## 모델 구성"
      ]
    },
    {
      "cell_type": "code",
      "metadata": {
        "id": "J7y3R3WguycR",
        "colab_type": "code",
        "colab": {}
      },
      "source": [
        "class AcousticSoundModel(tf.keras.Model):\n",
        "    def __init__(self):\n",
        "        super(AcousticSoundModel, self).__init__()\n",
        "        self.conv1 = Conv2D(filters=64, kernel_size=[3, 3], padding='SAME', activation=tf.nn.relu)\n",
        "        self.drop1 = Dropout(rate=0.2)\n",
        "        self.pool1 = MaxPool2D(padding='SAME') ###### pooling 2x2. stride는 표기 x, 확인 ######\n",
        "        \n",
        "        self.conv2 = Conv2D(filters=64, kernel_size=[3, 3], padding='SAME', activation=tf.nn.relu)\n",
        "        self.drop2 = Dropout(rate=0.2) #20% dropout\n",
        "        self.pool2 = MaxPool2D(padding='SAME')\n",
        "        \n",
        "        self.conv3 = Conv2D(filters=64, kernel_size=[3, 3], padding='SAME', activation=tf.nn.relu)\n",
        "        self.drop3 = Dropout(rate=0.2) #20% dropout\n",
        "        self.pool3 = MaxPool2D(padding='SAME')\n",
        "        \n",
        "        self.pool3_flat = keras.layers.Flatten()\n",
        "        self.dense4 = Dense(units=128, activation=tf.nn.relu)\n",
        "        self.dense5 = Dense(units=5, activation=tf.nn.sigmoid) ### 일단 5. class 개수 추가되는 대로 변경\n",
        "        \n",
        "    def call(self, inputs, training=False):\n",
        "        net = self.conv1(inputs)\n",
        "        net = self.drop1(net)\n",
        "        net = self.pool1(net)\n",
        "        \n",
        "        net = self.conv2(net)\n",
        "        net = self.drop2(net)\n",
        "        net = self.pool2(net)\n",
        "        \n",
        "        net = self.conv3(net)\n",
        "        net = self.drop3(net)\n",
        "        net = self.pool3(net)\n",
        "        \n",
        "        net = self.pool3_flat(net)\n",
        "        net = self.dense4(net)\n",
        "        net = self.dense5(net)\n",
        "        return net"
      ],
      "execution_count": 0,
      "outputs": []
    },
    {
      "cell_type": "code",
      "metadata": {
        "id": "TyyCrX1wH_Rn",
        "colab_type": "code",
        "colab": {}
      },
      "source": [
        "model = AcousticSoundModel()"
      ],
      "execution_count": 0,
      "outputs": []
    },
    {
      "cell_type": "markdown",
      "metadata": {
        "id": "tBDRzz_M315_",
        "colab_type": "text"
      },
      "source": [
        "## Training"
      ]
    },
    {
      "cell_type": "code",
      "metadata": {
        "id": "gPOJcmo9AYZb",
        "colab_type": "code",
        "colab": {}
      },
      "source": [
        "model.compile(loss='categorical_crossentropy',\n",
        "              optimizer=keras.optimizers.Adam(lr=learning_rate),\n",
        "              metrics=['acc'])"
      ],
      "execution_count": 0,
      "outputs": []
    },
    {
      "cell_type": "code",
      "metadata": {
        "id": "X6K0Spxpzbkc",
        "colab_type": "code",
        "colab": {}
      },
      "source": [
        "es = tf.keras.callbacks.EarlyStopping(monitor='val_loss', mode='min', verbose=1, patience=10)"
      ],
      "execution_count": 0,
      "outputs": []
    },
    {
      "cell_type": "code",
      "metadata": {
        "id": "sItLd2TjADMF",
        "colab_type": "code",
        "colab": {}
      },
      "source": [
        "save = tf.keras.callbacks.ModelCheckpoint('best_model.h5', monitor='val_loss', mode='min', save_best_only=True)"
      ],
      "execution_count": 0,
      "outputs": []
    },
    {
      "cell_type": "code",
      "metadata": {
        "id": "OC82XvTesL5w",
        "colab_type": "code",
        "colab": {}
      },
      "source": [
        "callback = [es, save]"
      ],
      "execution_count": 0,
      "outputs": []
    },
    {
      "cell_type": "code",
      "metadata": {
        "id": "ujEWoqNnFDDp",
        "colab_type": "code",
        "outputId": "9c1ff299-928b-423e-bdaa-978c21b90bbd",
        "colab": {
          "base_uri": "https://localhost:8080/",
          "height": 1000
        }
      },
      "source": [
        "hist = model.fit(\n",
        "      train_ds,\n",
        "      steps_per_epoch=STEPS_PER_EPOCH,\n",
        "      epochs=training_epochs,\n",
        "      batch_size = BATCH_SIZE,\n",
        "      validation_data=val_ds,\n",
        "      validation_steps=VALIDATION_STEPS,\n",
        "      callbacks=callback)"
      ],
      "execution_count": 34,
      "outputs": [
        {
          "output_type": "stream",
          "text": [
            "Epoch 1/100\n",
            "89/89 [==============================] - 50s 566ms/step - loss: 1.4419 - acc: 0.3601 - val_loss: 1.3075 - val_acc: 0.4722\n",
            "Epoch 2/100\n",
            "89/89 [==============================] - 11s 121ms/step - loss: 0.9269 - acc: 0.6067 - val_loss: 0.6912 - val_acc: 0.8021\n",
            "Epoch 3/100\n",
            "89/89 [==============================] - 11s 121ms/step - loss: 0.3782 - acc: 0.8727 - val_loss: 0.4464 - val_acc: 0.9115\n",
            "Epoch 4/100\n",
            "89/89 [==============================] - 11s 122ms/step - loss: 0.2118 - acc: 0.9287 - val_loss: 0.2402 - val_acc: 0.9427\n",
            "Epoch 5/100\n",
            "89/89 [==============================] - 11s 122ms/step - loss: 0.1493 - acc: 0.9545 - val_loss: 0.1987 - val_acc: 0.9618\n",
            "Epoch 6/100\n",
            "89/89 [==============================] - 11s 122ms/step - loss: 0.1123 - acc: 0.9658 - val_loss: 0.1387 - val_acc: 0.9583\n",
            "Epoch 7/100\n",
            "89/89 [==============================] - 11s 122ms/step - loss: 0.1008 - acc: 0.9668 - val_loss: 0.1095 - val_acc: 0.9757\n",
            "Epoch 8/100\n",
            "89/89 [==============================] - 11s 121ms/step - loss: 0.0874 - acc: 0.9728 - val_loss: 0.1204 - val_acc: 0.9792\n",
            "Epoch 9/100\n",
            "89/89 [==============================] - 11s 122ms/step - loss: 0.0677 - acc: 0.9786 - val_loss: 0.0817 - val_acc: 0.9913\n",
            "Epoch 10/100\n",
            "89/89 [==============================] - 11s 121ms/step - loss: 0.0645 - acc: 0.9798 - val_loss: 0.0971 - val_acc: 0.9844\n",
            "Epoch 11/100\n",
            "89/89 [==============================] - 11s 121ms/step - loss: 0.0508 - acc: 0.9833 - val_loss: 0.1316 - val_acc: 0.9792\n",
            "Epoch 12/100\n",
            "89/89 [==============================] - 11s 121ms/step - loss: 0.0515 - acc: 0.9833 - val_loss: 0.0906 - val_acc: 0.9826\n",
            "Epoch 13/100\n",
            "89/89 [==============================] - 11s 122ms/step - loss: 0.0585 - acc: 0.9833 - val_loss: 0.0909 - val_acc: 0.9774\n",
            "Epoch 14/100\n",
            "89/89 [==============================] - 11s 122ms/step - loss: 0.0437 - acc: 0.9865 - val_loss: 0.0633 - val_acc: 0.9826\n",
            "Epoch 15/100\n",
            "89/89 [==============================] - 11s 123ms/step - loss: 0.0308 - acc: 0.9891 - val_loss: 0.0505 - val_acc: 0.9948\n",
            "Epoch 16/100\n",
            "89/89 [==============================] - 11s 121ms/step - loss: 0.0322 - acc: 0.9909 - val_loss: 0.0568 - val_acc: 0.9861\n",
            "Epoch 17/100\n",
            "89/89 [==============================] - 11s 121ms/step - loss: 0.0364 - acc: 0.9903 - val_loss: 0.0600 - val_acc: 0.9844\n",
            "Epoch 18/100\n",
            "89/89 [==============================] - 11s 122ms/step - loss: 0.0283 - acc: 0.9916 - val_loss: 0.0243 - val_acc: 0.9983\n",
            "Epoch 19/100\n",
            "89/89 [==============================] - 11s 122ms/step - loss: 0.0171 - acc: 0.9951 - val_loss: 0.0305 - val_acc: 0.9948\n",
            "Epoch 20/100\n",
            "89/89 [==============================] - 11s 122ms/step - loss: 0.0164 - acc: 0.9965 - val_loss: 0.0235 - val_acc: 0.9983\n",
            "Epoch 21/100\n",
            "89/89 [==============================] - 11s 122ms/step - loss: 0.0155 - acc: 0.9963 - val_loss: 0.0310 - val_acc: 0.9965\n",
            "Epoch 22/100\n",
            "89/89 [==============================] - 11s 121ms/step - loss: 0.0226 - acc: 0.9933 - val_loss: 0.0524 - val_acc: 0.9826\n",
            "Epoch 23/100\n",
            "89/89 [==============================] - 11s 121ms/step - loss: 0.0258 - acc: 0.9926 - val_loss: 0.0431 - val_acc: 0.9861\n",
            "Epoch 24/100\n",
            "89/89 [==============================] - 11s 121ms/step - loss: 0.0243 - acc: 0.9930 - val_loss: 0.0318 - val_acc: 0.9948\n",
            "Epoch 25/100\n",
            "89/89 [==============================] - 11s 121ms/step - loss: 0.0245 - acc: 0.9912 - val_loss: 0.0338 - val_acc: 0.9878\n",
            "Epoch 26/100\n",
            "89/89 [==============================] - 11s 122ms/step - loss: 0.0188 - acc: 0.9935 - val_loss: 0.0268 - val_acc: 0.9965\n",
            "Epoch 27/100\n",
            "89/89 [==============================] - 11s 122ms/step - loss: 0.0222 - acc: 0.9930 - val_loss: 0.0313 - val_acc: 0.9896\n",
            "Epoch 28/100\n",
            "89/89 [==============================] - 11s 122ms/step - loss: 0.0266 - acc: 0.9933 - val_loss: 0.0830 - val_acc: 0.9722\n",
            "Epoch 29/100\n",
            "89/89 [==============================] - 11s 121ms/step - loss: 0.0247 - acc: 0.9930 - val_loss: 0.0262 - val_acc: 0.9983\n",
            "Epoch 30/100\n",
            "89/89 [==============================] - 11s 122ms/step - loss: 0.0198 - acc: 0.9960 - val_loss: 0.0178 - val_acc: 0.9965\n",
            "Epoch 31/100\n",
            "89/89 [==============================] - 11s 122ms/step - loss: 0.0123 - acc: 0.9974 - val_loss: 0.0243 - val_acc: 0.9965\n",
            "Epoch 32/100\n",
            "89/89 [==============================] - 11s 121ms/step - loss: 0.0099 - acc: 0.9986 - val_loss: 0.0196 - val_acc: 0.9948\n",
            "Epoch 33/100\n",
            "89/89 [==============================] - 11s 121ms/step - loss: 0.0101 - acc: 0.9977 - val_loss: 0.0220 - val_acc: 0.9948\n",
            "Epoch 34/100\n",
            "89/89 [==============================] - 11s 121ms/step - loss: 0.0122 - acc: 0.9970 - val_loss: 0.0479 - val_acc: 0.9861\n",
            "Epoch 35/100\n",
            "89/89 [==============================] - 11s 122ms/step - loss: 0.0154 - acc: 0.9951 - val_loss: 0.0225 - val_acc: 0.9931\n",
            "Epoch 36/100\n",
            "89/89 [==============================] - 11s 121ms/step - loss: 0.0122 - acc: 0.9968 - val_loss: 0.0204 - val_acc: 0.9965\n",
            "Epoch 37/100\n",
            "89/89 [==============================] - 11s 121ms/step - loss: 0.0172 - acc: 0.9954 - val_loss: 0.0193 - val_acc: 0.9948\n",
            "Epoch 38/100\n",
            "89/89 [==============================] - 11s 122ms/step - loss: 0.0077 - acc: 0.9986 - val_loss: 0.0129 - val_acc: 0.9948\n",
            "Epoch 39/100\n",
            "89/89 [==============================] - 11s 122ms/step - loss: 0.0100 - acc: 0.9984 - val_loss: 0.0159 - val_acc: 0.9965\n",
            "Epoch 40/100\n",
            "89/89 [==============================] - 11s 121ms/step - loss: 0.0094 - acc: 0.9981 - val_loss: 0.0159 - val_acc: 0.9965\n",
            "Epoch 41/100\n",
            "89/89 [==============================] - 11s 121ms/step - loss: 0.0091 - acc: 0.9989 - val_loss: 0.0151 - val_acc: 0.9965\n",
            "Epoch 42/100\n",
            "89/89 [==============================] - 11s 122ms/step - loss: 0.0123 - acc: 0.9970 - val_loss: 0.0126 - val_acc: 0.9965\n",
            "Epoch 43/100\n",
            "89/89 [==============================] - 11s 121ms/step - loss: 0.0085 - acc: 0.9984 - val_loss: 0.0146 - val_acc: 0.9965\n",
            "Epoch 44/100\n",
            "89/89 [==============================] - 11s 121ms/step - loss: 0.0099 - acc: 0.9982 - val_loss: 0.0210 - val_acc: 0.9948\n",
            "Epoch 45/100\n",
            "89/89 [==============================] - 11s 122ms/step - loss: 0.0133 - acc: 0.9968 - val_loss: 0.0153 - val_acc: 0.9965\n",
            "Epoch 46/100\n",
            "89/89 [==============================] - 11s 122ms/step - loss: 0.0296 - acc: 0.9917 - val_loss: 0.0792 - val_acc: 0.9809\n",
            "Epoch 47/100\n",
            "89/89 [==============================] - 11s 121ms/step - loss: 0.0175 - acc: 0.9953 - val_loss: 0.0138 - val_acc: 0.9965\n",
            "Epoch 48/100\n",
            "89/89 [==============================] - 11s 121ms/step - loss: 0.0164 - acc: 0.9956 - val_loss: 0.0323 - val_acc: 0.9931\n",
            "Epoch 49/100\n",
            "89/89 [==============================] - 11s 121ms/step - loss: 0.0125 - acc: 0.9975 - val_loss: 0.0260 - val_acc: 0.9948\n",
            "Epoch 50/100\n",
            "89/89 [==============================] - 11s 121ms/step - loss: 0.0111 - acc: 0.9977 - val_loss: 0.0138 - val_acc: 0.9948\n",
            "Epoch 51/100\n",
            "89/89 [==============================] - 11s 121ms/step - loss: 0.0074 - acc: 0.9981 - val_loss: 0.0141 - val_acc: 0.9983\n",
            "Epoch 52/100\n",
            "89/89 [==============================] - 11s 122ms/step - loss: 0.0084 - acc: 0.9986 - val_loss: 0.0107 - val_acc: 0.9983\n",
            "Epoch 53/100\n",
            "89/89 [==============================] - 11s 121ms/step - loss: 0.0101 - acc: 0.9975 - val_loss: 0.0151 - val_acc: 0.9965\n",
            "Epoch 54/100\n",
            "89/89 [==============================] - 11s 122ms/step - loss: 0.0102 - acc: 0.9970 - val_loss: 0.0417 - val_acc: 0.9878\n",
            "Epoch 55/100\n",
            "89/89 [==============================] - 11s 121ms/step - loss: 0.0231 - acc: 0.9958 - val_loss: 0.0261 - val_acc: 0.9965\n",
            "Epoch 56/100\n",
            "89/89 [==============================] - 11s 122ms/step - loss: 0.0279 - acc: 0.9921 - val_loss: 0.0418 - val_acc: 0.9931\n",
            "Epoch 57/100\n",
            "89/89 [==============================] - 11s 121ms/step - loss: 0.0193 - acc: 0.9951 - val_loss: 0.0327 - val_acc: 0.9913\n",
            "Epoch 58/100\n",
            "89/89 [==============================] - 11s 121ms/step - loss: 0.0174 - acc: 0.9949 - val_loss: 0.0287 - val_acc: 0.9948\n",
            "Epoch 59/100\n",
            "89/89 [==============================] - 11s 121ms/step - loss: 0.0194 - acc: 0.9944 - val_loss: 0.0183 - val_acc: 0.9965\n",
            "Epoch 60/100\n",
            "89/89 [==============================] - 11s 122ms/step - loss: 0.0147 - acc: 0.9968 - val_loss: 0.0137 - val_acc: 0.9983\n",
            "Epoch 61/100\n",
            "89/89 [==============================] - 11s 122ms/step - loss: 0.0091 - acc: 0.9981 - val_loss: 0.0153 - val_acc: 0.9983\n",
            "Epoch 62/100\n",
            "89/89 [==============================] - 11s 121ms/step - loss: 0.0100 - acc: 0.9975 - val_loss: 0.0128 - val_acc: 0.9983\n",
            "Epoch 00062: early stopping\n"
          ],
          "name": "stdout"
        }
      ]
    },
    {
      "cell_type": "code",
      "metadata": {
        "id": "xO4EpxUu3Yv_",
        "colab_type": "code",
        "colab": {}
      },
      "source": [
        "# 저장된 모델을 언제든지 로드하고 평가할 수 있습니다.\n",
        "#saved_model = load_model('best_model.h5')"
      ],
      "execution_count": 0,
      "outputs": []
    },
    {
      "cell_type": "markdown",
      "metadata": {
        "id": "t1JaF6cL8vSF",
        "colab_type": "text"
      },
      "source": [
        "## evaluate / prediction"
      ]
    },
    {
      "cell_type": "code",
      "metadata": {
        "id": "2d3UAv768sre",
        "colab_type": "code",
        "outputId": "1957fa68-1c1e-4b96-ff9a-33585e92b531",
        "colab": {
          "base_uri": "https://localhost:8080/",
          "height": 52
        }
      },
      "source": [
        "loss, acc = model.evaluate(test_ds, batch_size=BATCH_SIZE, steps=TEST_STEPS)\n",
        "print('acc: %.2f%%, loss: %f'% (acc*100, loss))"
      ],
      "execution_count": 36,
      "outputs": [
        {
          "output_type": "stream",
          "text": [
            "18/18 [==============================] - 1s 80ms/step - loss: 0.0169 - acc: 0.9957\n",
            "acc: 99.57%, loss: 0.016859\n"
          ],
          "name": "stdout"
        }
      ]
    },
    {
      "cell_type": "code",
      "metadata": {
        "id": "sGc5iU47Eib2",
        "colab_type": "code",
        "outputId": "b8d02c69-9474-4451-8891-57971cbedf47",
        "colab": {
          "base_uri": "https://localhost:8080/",
          "height": 158
        }
      },
      "source": [
        "print(\"-- Predict --\")\n",
        "output = model.predict(test_ds, steps=TEST_STEPS)\n",
        "np.set_printoptions(formatter={'float': lambda x: \"{0:0.3f}\".format(x)})\n",
        "print(output)"
      ],
      "execution_count": 37,
      "outputs": [
        {
          "output_type": "stream",
          "text": [
            "-- Predict --\n",
            "[[0.000 0.001 0.525 0.001 0.015]\n",
            " [0.000 0.000 0.000 0.847 0.000]\n",
            " [0.000 0.000 0.000 0.953 0.000]\n",
            " ...\n",
            " [0.999 0.000 0.000 0.000 0.000]\n",
            " [0.000 0.000 1.000 0.000 0.000]\n",
            " [1.000 0.000 0.000 0.000 0.000]]\n"
          ],
          "name": "stdout"
        }
      ]
    },
    {
      "cell_type": "code",
      "metadata": {
        "id": "CA7H_I-rFDHZ",
        "colab_type": "code",
        "colab": {}
      },
      "source": [
        "model.save_weights('saveweights', save_format='tf')"
      ],
      "execution_count": 0,
      "outputs": []
    },
    {
      "cell_type": "code",
      "metadata": {
        "id": "-dZByyRV_htE",
        "colab_type": "code",
        "outputId": "10822f85-96db-4839-c14d-6aecc34dab14",
        "colab": {
          "base_uri": "https://localhost:8080/",
          "height": 545
        }
      },
      "source": [
        "acc = hist.history['acc']\n",
        "val_acc = hist.history['val_acc']\n",
        "loss = hist.history['loss']\n",
        "val_loss = hist.history['val_loss']\n",
        "\n",
        "epochs = range(len(acc))\n",
        "\n",
        "plt.plot(epochs, acc, 'bo', label='Training acc')\n",
        "plt.plot(epochs, val_acc, 'b', label='Validation acc')\n",
        "plt.title('Training and validation accuracy')\n",
        "plt.legend()\n",
        "\n",
        "plt.figure()\n",
        "\n",
        "plt.plot(epochs, loss, 'bo', label='Training loss')\n",
        "plt.plot(epochs, val_loss, 'b', label='Validation loss')\n",
        "plt.title('Training and validation loss')\n",
        "plt.legend()\n",
        "\n",
        "plt.show()"
      ],
      "execution_count": 39,
      "outputs": [
        {
          "output_type": "display_data",
          "data": {
            "image/png": "[encoded data removed]",
            "text/plain": [
              "<Figure size 432x288 with 1 Axes>"
            ]
          },
          "metadata": {
            "tags": [],
            "needs_background": "light"
          }
        },
        {
          "output_type": "display_data",
          "data": {
            "image/png": "[encoded data removed]",
            "text/plain": [
              "<Figure size 432x288 with 1 Axes>"
            ]
          },
          "metadata": {
            "tags": [],
            "needs_background": "light"
          }
        }
      ]
    },
    {
      "cell_type": "code",
      "metadata": {
        "id": "arih6Uuo6mWt",
        "colab_type": "code",
        "colab": {
          "base_uri": "https://localhost:8080/",
          "height": 1000
        },
        "outputId": "b76d6757-a1c0-43e2-d036-4ecee3284172"
      },
      "source": [
        "# Explore your VM\n",
        "!ls -la /\n",
        "# Find disk space and RAM space\n",
        "!df -h\n",
        "!free -m\n",
        "\n",
        "#What OS is your VM using:\n",
        "!cat /etc/os-release"
      ],
      "execution_count": 40,
      "outputs": [
        {
          "output_type": "stream",
          "text": [
            "total 8064\n",
            "drwxr-xr-x   1 root root    4096 May 24 15:53 .\n",
            "drwxr-xr-x   1 root root    4096 May 24 15:53 ..\n",
            "drwxr-xr-x   1 root root    4096 May 13 16:22 bin\n",
            "drwxr-xr-x   2 root root    4096 Apr 24  2018 boot\n",
            "drwxr-xr-x   1 root root    4096 May 24 16:10 content\n",
            "drwxr-xr-x   1 root root    4096 May 20 16:45 datalab\n",
            "drwxr-xr-x   5 root root     440 May 24 15:53 dev\n",
            "-rw-r--r--   1 root root 4078115 May 20 16:14 dlib-19.18.0-cp27-cp27mu-linux_x86_64.whl\n",
            "-rw-r--r--   1 root root 4068717 May 20 16:14 dlib-19.18.0-cp36-cp36m-linux_x86_64.whl\n",
            "-rwxr-xr-x   1 root root       0 May 24 15:53 .dockerenv\n",
            "drwxr-xr-x   1 root root    4096 May 24 15:53 etc\n",
            "drwxr-xr-x   2 root root    4096 Apr 24  2018 home\n",
            "drwxr-xr-x   1 root root    4096 May 13 16:24 lib\n",
            "drwxr-xr-x   2 root root    4096 May 13 16:18 lib32\n",
            "drwxr-xr-x   2 root root    4096 Oct 29  2019 lib64\n",
            "drwxr-xr-x   2 root root    4096 Oct 29  2019 media\n",
            "drwxr-xr-x   2 root root    4096 Oct 29  2019 mnt\n",
            "drwxr-xr-x   1 root root    4096 May 24 15:53 opt\n",
            "dr-xr-xr-x 115 root root       0 May 24 15:53 proc\n",
            "drwx------   1 root root    4096 May 24 15:57 root\n",
            "drwxr-xr-x   1 root root    4096 May 13 16:19 run\n",
            "drwxr-xr-x   1 root root    4096 May 13 16:22 sbin\n",
            "drwxr-xr-x   2 root root    4096 Oct 29  2019 srv\n",
            "drwxr-xr-x   4 root root    4096 May 20 16:44 swift\n",
            "dr-xr-xr-x  12 root root       0 May 24 15:56 sys\n",
            "drwxr-xr-x   4 root root    4096 May 20 16:39 tensorflow-1.15.2\n",
            "drwxrwxrwt   1 root root    4096 May 24 16:10 tmp\n",
            "drwxr-xr-x   1 root root    4096 May 20 16:45 tools\n",
            "drwxr-xr-x   1 root root    4096 May 24 15:53 usr\n",
            "drwxr-xr-x   1 root root    4096 May 24 15:53 var\n",
            "Filesystem      Size  Used Avail Use% Mounted on\n",
            "overlay          69G   32G   34G  50% /\n",
            "tmpfs            64M     0   64M   0% /dev\n",
            "tmpfs           6.4G     0  6.4G   0% /sys/fs/cgroup\n",
            "shm             5.8G     0  5.8G   0% /dev/shm\n",
            "/dev/sda1        75G   33G   42G  45% /opt/bin\n",
            "tmpfs           6.4G   16K  6.4G   1% /var/colab\n",
            "tmpfs           6.4G     0  6.4G   0% /proc/acpi\n",
            "tmpfs           6.4G     0  6.4G   0% /proc/scsi\n",
            "tmpfs           6.4G     0  6.4G   0% /sys/firmware\n",
            "              total        used        free      shared  buff/cache   available\n",
            "Mem:          13021        6159        2649          14        4212       10800\n",
            "Swap:             0           0           0\n",
            "NAME=\"Ubuntu\"\n",
            "VERSION=\"18.04.3 LTS (Bionic Beaver)\"\n",
            "ID=ubuntu\n",
            "ID_LIKE=debian\n",
            "PRETTY_NAME=\"Ubuntu 18.04.3 LTS\"\n",
            "VERSION_ID=\"18.04\"\n",
            "HOME_URL=\"https://www.ubuntu.com/\"\n",
            "SUPPORT_URL=\"https://help.ubuntu.com/\"\n",
            "BUG_REPORT_URL=\"https://bugs.launchpad.net/ubuntu/\"\n",
            "PRIVACY_POLICY_URL=\"https://www.ubuntu.com/legal/terms-and-policies/privacy-policy\"\n",
            "VERSION_CODENAME=bionic\n",
            "UBUNTU_CODENAME=bionic\n"
          ],
          "name": "stdout"
        }
      ]
    },
    {
      "cell_type": "code",
      "metadata": {
        "id": "nVmPr9dBYX-N",
        "colab_type": "code",
        "colab": {
          "base_uri": "https://localhost:8080/",
          "height": 34
        },
        "outputId": "ffd3c074-bc3b-4ff4-8565-887c82d15ee9"
      },
      "source": [
        "!ls  /root/.keras/datasets/"
      ],
      "execution_count": 41,
      "outputs": [
        {
          "output_type": "stream",
          "text": [
            "5class_img  images\n"
          ],
          "name": "stdout"
        }
      ]
    },
    {
      "cell_type": "code",
      "metadata": {
        "id": "-8vhH9U0YaNI",
        "colab_type": "code",
        "colab": {
          "base_uri": "https://localhost:8080/",
          "height": 34
        },
        "outputId": "325ecf99-c23c-41ae-edcf-18e2e1e11bf4"
      },
      "source": [
        "!ls  /root/.keras/datasets/images"
      ],
      "execution_count": 42,
      "outputs": [
        {
          "output_type": "stream",
          "text": [
            "/root/.keras/datasets/images\n"
          ],
          "name": "stdout"
        }
      ]
    }
  ]
}