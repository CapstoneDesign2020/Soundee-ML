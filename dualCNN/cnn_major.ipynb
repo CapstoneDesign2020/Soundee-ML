{
  "nbformat": 4,
  "nbformat_minor": 0,
  "metadata": {
    "colab": {
      "name": "cnn_major.ipynb",
      "provenance": [],
      "collapsed_sections": []
    },
    "kernelspec": {
      "name": "python3",
      "display_name": "Python 3"
    },
    "accelerator": "GPU"
  },
  "cells": [
    {
      "cell_type": "markdown",
      "metadata": {
        "id": "T3gGvshmtgvH",
        "colab_type": "text"
      },
      "source": [
        "## Set up"
      ]
    },
    {
      "cell_type": "code",
      "metadata": {
        "id": "v72-5GbJthzq",
        "colab_type": "code",
        "colab": {}
      },
      "source": [
        "import tensorflow as tf"
      ],
      "execution_count": 0,
      "outputs": []
    },
    {
      "cell_type": "code",
      "metadata": {
        "id": "cqihsPL5aceV",
        "colab_type": "code",
        "colab": {}
      },
      "source": [
        "AUTOTUNE = tf.data.experimental.AUTOTUNE\n",
        "import IPython.display as display\n",
        "from PIL import Image\n",
        "import numpy as np\n",
        "import matplotlib.pyplot as plt\n",
        "import os"
      ],
      "execution_count": 0,
      "outputs": []
    },
    {
      "cell_type": "code",
      "metadata": {
        "id": "V2cVUHtnIR8x",
        "colab_type": "code",
        "outputId": "15e93d60-a197-4179-cda8-0299c60b1735",
        "colab": {
          "base_uri": "https://localhost:8080/",
          "height": 34
        }
      },
      "source": [
        "from tensorflow import keras #import keras\n",
        "from tensorflow.keras import Model\n",
        "from keras import optimizers\n",
        "from tensorflow.keras.utils import to_categorical\n",
        "from tensorflow.keras.layers import Dense, Flatten, Conv2D, Dropout, MaxPool2D"
      ],
      "execution_count": 3,
      "outputs": [
        {
          "output_type": "stream",
          "text": [
            "Using TensorFlow backend.\n"
          ],
          "name": "stderr"
        }
      ]
    },
    {
      "cell_type": "code",
      "metadata": {
        "id": "v3lvAw2x_Vf1",
        "colab_type": "code",
        "colab": {}
      },
      "source": [
        "from keras.callbacks import EarlyStopping, ModelCheckpoint\n",
        "from keras.models import load_model"
      ],
      "execution_count": 0,
      "outputs": []
    },
    {
      "cell_type": "code",
      "metadata": {
        "id": "-sFsbh-saeHa",
        "colab_type": "code",
        "colab": {}
      },
      "source": [
        "import pathlib"
      ],
      "execution_count": 0,
      "outputs": []
    },
    {
      "cell_type": "markdown",
      "metadata": {
        "id": "0PXMeVHKtJ_3",
        "colab_type": "text"
      },
      "source": [
        "## Retrieve the images"
      ]
    },
    {
      "cell_type": "code",
      "metadata": {
        "id": "Nem5TSq7UpKm",
        "colab_type": "code",
        "outputId": "412c906a-933d-4504-c8fd-7a8977578c6f",
        "colab": {
          "base_uri": "https://localhost:8080/",
          "height": 52
        }
      },
      "source": [
        "data_dir = tf.keras.utils.get_file(origin='https://drive.google.com/uc?export=download&id=1unk1HNx1HqW91cqi2d6XSgnkIepeYN2w', \n",
        "                                   fname='images', extract=True)\n",
        "data_dir = pathlib.Path(data_dir)"
      ],
      "execution_count": 6,
      "outputs": [
        {
          "output_type": "stream",
          "text": [
            "Downloading data from https://drive.google.com/uc?export=download&id=1unk1HNx1HqW91cqi2d6XSgnkIepeYN2w\n",
            "78577664/Unknown - 1s 0us/step"
          ],
          "name": "stdout"
        }
      ]
    },
    {
      "cell_type": "code",
      "metadata": {
        "id": "8KHpiahFeCt3",
        "colab_type": "code",
        "colab": {}
      },
      "source": [
        "data_dir = pathlib.PosixPath(\"/root/.keras/datasets/edit_test_img\")"
      ],
      "execution_count": 0,
      "outputs": []
    },
    {
      "cell_type": "code",
      "metadata": {
        "id": "dnLszM4OUpWx",
        "colab_type": "code",
        "outputId": "f5d25885-e6f7-45b7-b40e-861e260d7842",
        "colab": {
          "base_uri": "https://localhost:8080/",
          "height": 34
        }
      },
      "source": [
        "print(data_dir)"
      ],
      "execution_count": 8,
      "outputs": [
        {
          "output_type": "stream",
          "text": [
            "/root/.keras/datasets/edit_test_img\n"
          ],
          "name": "stdout"
        }
      ]
    },
    {
      "cell_type": "code",
      "metadata": {
        "id": "zb-0E4I_U2tr",
        "colab_type": "code",
        "outputId": "3007dafb-51c9-4d3d-bb0a-c4b31bc1ca48",
        "colab": {
          "base_uri": "https://localhost:8080/",
          "height": 34
        }
      },
      "source": [
        "image_count = len(list(data_dir.glob('*/*.png')))\n",
        "image_count"
      ],
      "execution_count": 9,
      "outputs": [
        {
          "output_type": "execute_result",
          "data": {
            "text/plain": [
              "3520"
            ]
          },
          "metadata": {
            "tags": []
          },
          "execution_count": 9
        }
      ]
    },
    {
      "cell_type": "code",
      "metadata": {
        "id": "zBe2LmjWA2-p",
        "colab_type": "code",
        "outputId": "70584abb-9d99-41ea-f4e6-3f6abc5e5f38",
        "colab": {
          "base_uri": "https://localhost:8080/",
          "height": 34
        }
      },
      "source": [
        "CLASS_NAMES = np.array([item.name for item in data_dir.glob('*')])\n",
        "CLASS_NAMES"
      ],
      "execution_count": 10,
      "outputs": [
        {
          "output_type": "execute_result",
          "data": {
            "text/plain": [
              "array(['clockalarm', 'motor', 'drop', 'water', 'babycrying'], dtype='<U10')"
            ]
          },
          "metadata": {
            "tags": []
          },
          "execution_count": 10
        }
      ]
    },
    {
      "cell_type": "markdown",
      "metadata": {
        "id": "MnDKKziGu7is",
        "colab_type": "text"
      },
      "source": [
        "## Load using tf.data"
      ]
    },
    {
      "cell_type": "code",
      "metadata": {
        "id": "nqHUnO7SA3D2",
        "colab_type": "code",
        "colab": {}
      },
      "source": [
        "list_ds = tf.data.Dataset.list_files(str(data_dir/'*/*'))"
      ],
      "execution_count": 0,
      "outputs": []
    },
    {
      "cell_type": "code",
      "metadata": {
        "id": "sweMPoW8A3G9",
        "colab_type": "code",
        "outputId": "6efc9cd2-5da1-49d6-f9df-00a9083e74a1",
        "colab": {
          "base_uri": "https://localhost:8080/",
          "height": 105
        }
      },
      "source": [
        "for f in list_ds.take(5):\n",
        "  print(f.numpy())"
      ],
      "execution_count": 12,
      "outputs": [
        {
          "output_type": "stream",
          "text": [
            "b'/root/.keras/datasets/edit_test_img/motor/0-1012.png'\n",
            "b'/root/.keras/datasets/edit_test_img/water/1-364.png'\n",
            "b'/root/.keras/datasets/edit_test_img/motor/0-389.png'\n",
            "b'/root/.keras/datasets/edit_test_img/water/1-19.png'\n",
            "b'/root/.keras/datasets/edit_test_img/water/1-591.png'\n"
          ],
          "name": "stdout"
        }
      ]
    },
    {
      "cell_type": "code",
      "metadata": {
        "id": "0BzV4A8qp9e4",
        "colab_type": "code",
        "colab": {}
      },
      "source": [
        "train_num = int(image_count * 0.7)\n",
        "test_num = int(image_count * 0.2)\n",
        "val_num = int(image_count * 0.1)"
      ],
      "execution_count": 0,
      "outputs": []
    },
    {
      "cell_type": "code",
      "metadata": {
        "id": "-466UMvqjZy4",
        "colab_type": "code",
        "colab": {}
      },
      "source": [
        "learning_rate = 0.001\n",
        "training_epochs = 100\n",
        "BATCH_SIZE = 64\n",
        "IMG_HEIGHT = 224\n",
        "IMG_WIDTH = 224\n",
        "STEPS_PER_EPOCH = np.ceil(image_count/BATCH_SIZE)\n",
        "VALIDATION_STEPS = np.ceil(val_num/BATCH_SIZE)\n",
        "TEST_STEPS = np.ceil(test_num/BATCH_SIZE)"
      ],
      "execution_count": 0,
      "outputs": []
    },
    {
      "cell_type": "markdown",
      "metadata": {
        "id": "AaGDtC97vYYq",
        "colab_type": "text"
      },
      "source": [
        "파일 경로를 `(img, label)`쌍으로 변환하는 tensorflow 함수"
      ]
    },
    {
      "cell_type": "code",
      "metadata": {
        "id": "toY5Dc4jA3NG",
        "colab_type": "code",
        "colab": {}
      },
      "source": [
        "def get_label(file_path):\n",
        "  #path를 path 구성 요소 목록으로 변환\n",
        "  parts = tf.strings.split(file_path, os.path.sep)\n",
        "  # 마지막 두 번째가 클래스 디렉터리임\n",
        "  return parts[-2] == CLASS_NAMES"
      ],
      "execution_count": 0,
      "outputs": []
    },
    {
      "cell_type": "code",
      "metadata": {
        "id": "fsRR3llDA3QP",
        "colab_type": "code",
        "colab": {}
      },
      "source": [
        "def decode_img(img):\n",
        "  # 압축된 문자열을 3D uint8 텐서로 변환\n",
        "  img = tf.image.decode_png(img, channels=3)\n",
        "  # convert_image_dtype로 [0,1] 범위의 float로 변환\n",
        "  img = tf.image.convert_image_dtype(img, tf.float32)\n",
        "  # 이미지 크기를 원하는 크기로 조정\n",
        "  return tf.image.resize(img, [IMG_WIDTH, IMG_HEIGHT])"
      ],
      "execution_count": 0,
      "outputs": []
    },
    {
      "cell_type": "code",
      "metadata": {
        "id": "NE6-d5_XA3LG",
        "colab_type": "code",
        "colab": {}
      },
      "source": [
        "def process_path(file_path):\n",
        "  label = get_label(file_path)\n",
        "  # 파일에서 raw data를 문자열로 로드\n",
        "  img = tf.io.read_file(file_path)\n",
        "  img = decode_img(img)\n",
        "  return img, label"
      ],
      "execution_count": 0,
      "outputs": []
    },
    {
      "cell_type": "markdown",
      "metadata": {
        "id": "1PhQBMVGi7yx",
        "colab_type": "text"
      },
      "source": [
        "`image, label` 쌍 데이터셋 만들기 위해 `Dataset.map`사용하기"
      ]
    },
    {
      "cell_type": "code",
      "metadata": {
        "id": "bx0S5tVpi6sU",
        "colab_type": "code",
        "colab": {}
      },
      "source": [
        "# 이미지가 병렬로 로드/처리되도록 'num_parallel_calls'를 설정한다.\n",
        "labeled_ds = list_ds.map(process_path, num_parallel_calls=AUTOTUNE)"
      ],
      "execution_count": 0,
      "outputs": []
    },
    {
      "cell_type": "code",
      "metadata": {
        "id": "v9USZoENjjey",
        "colab_type": "code",
        "outputId": "51d5908b-8f03-48e4-b606-d1d36f3383fb",
        "colab": {
          "base_uri": "https://localhost:8080/",
          "height": 52
        }
      },
      "source": [
        "for image, label in labeled_ds.take(1):\n",
        "  print(\"Image shape: \", image.numpy().shape)\n",
        "  print(\"Label: \", label.numpy())"
      ],
      "execution_count": 19,
      "outputs": [
        {
          "output_type": "stream",
          "text": [
            "Image shape:  (224, 224, 3)\n",
            "Label:  [False False False  True False]\n"
          ],
          "name": "stdout"
        }
      ]
    },
    {
      "cell_type": "code",
      "metadata": {
        "id": "jsM0-darUlR0",
        "colab_type": "code",
        "colab": {}
      },
      "source": [
        "train_ = labeled_ds.take(train_num)\n",
        "test_ = labeled_ds.take(test_num)\n",
        "val_ = labeled_ds.take(val_num)"
      ],
      "execution_count": 0,
      "outputs": []
    },
    {
      "cell_type": "code",
      "metadata": {
        "id": "6RbB9tNCVrma",
        "colab_type": "code",
        "outputId": "636c8c1c-89ce-48cf-da51-cc845d35b42f",
        "colab": {
          "base_uri": "https://localhost:8080/",
          "height": 193
        }
      },
      "source": [
        "for image, label in train_.take(5):\n",
        "  print(\"Image shape: \", image.numpy().shape)\n",
        "  print(\"Label: \", label.numpy())"
      ],
      "execution_count": 21,
      "outputs": [
        {
          "output_type": "stream",
          "text": [
            "Image shape:  (224, 224, 3)\n",
            "Label:  [False False False  True False]\n",
            "Image shape:  (224, 224, 3)\n",
            "Label:  [False  True False False False]\n",
            "Image shape:  (224, 224, 3)\n",
            "Label:  [False False False  True False]\n",
            "Image shape:  (224, 224, 3)\n",
            "Label:  [False False  True False False]\n",
            "Image shape:  (224, 224, 3)\n",
            "Label:  [False  True False False False]\n"
          ],
          "name": "stdout"
        }
      ]
    },
    {
      "cell_type": "code",
      "metadata": {
        "id": "Qwcws5Q0-dt-",
        "colab_type": "code",
        "colab": {}
      },
      "source": [
        "def prepare_for_training(ds, cache=True, shuffle_buffer_size=1000):\n",
        "  # 이것은 작은 데이터 집합으로, 한 번만 로드하여 메모리에 보관한다.\n",
        "  # 데이터셋의 사전 처리 작업을 캐싱하기 위해 '.cache(filename)' 사용\n",
        "  if cache:\n",
        "    if isinstance(cache, str):\n",
        "      ds = ds.cache(cache)\n",
        "    else:\n",
        "      ds = ds.cache()\n",
        "\n",
        "  ds = ds.shuffle(buffer_size=shuffle_buffer_size)\n",
        "\n",
        "  ds = ds.repeat()\n",
        "  ds = ds.batch(BATCH_SIZE)\n",
        "\n",
        "  ds = ds.prefetch(buffer_size=AUTOTUNE)\n",
        "\n",
        "  return ds"
      ],
      "execution_count": 0,
      "outputs": []
    },
    {
      "cell_type": "code",
      "metadata": {
        "id": "rm3wPuyOYdCL",
        "colab_type": "code",
        "colab": {}
      },
      "source": [
        "train_ds = prepare_for_training(train_)\n",
        "test_ds = prepare_for_training(test_)\n",
        "val_ds = prepare_for_training(val_)"
      ],
      "execution_count": 0,
      "outputs": []
    },
    {
      "cell_type": "code",
      "metadata": {
        "id": "u5aLDoC1aIru",
        "colab_type": "code",
        "outputId": "26601cda-0ae4-4bb1-b138-7a6911e5c85b",
        "colab": {
          "base_uri": "https://localhost:8080/",
          "height": 52
        }
      },
      "source": [
        "for image_batch, labels_batch in train_ds:\n",
        "  print('batch data size:', image_batch.shape)\n",
        "  print('batch label size:', labels_batch.shape)\n",
        "  break"
      ],
      "execution_count": 24,
      "outputs": [
        {
          "output_type": "stream",
          "text": [
            "batch data size: (64, 224, 224, 3)\n",
            "batch label size: (64, 5)\n"
          ],
          "name": "stdout"
        }
      ]
    },
    {
      "cell_type": "markdown",
      "metadata": {
        "id": "b_PhDBif3wZ9",
        "colab_type": "text"
      },
      "source": [
        "## 모델 구성"
      ]
    },
    {
      "cell_type": "code",
      "metadata": {
        "id": "J7y3R3WguycR",
        "colab_type": "code",
        "colab": {}
      },
      "source": [
        "class AcousticSoundModel(tf.keras.Model):\n",
        "    def __init__(self):\n",
        "        super(AcousticSoundModel, self).__init__()\n",
        "        self.conv1 = Conv2D(filters=64, kernel_size=[3, 3], padding='SAME', activation=tf.nn.relu)\n",
        "        self.drop1 = Dropout(rate=0.2)\n",
        "        self.pool1 = MaxPool2D(padding='SAME') ###### pooling 2x2. stride는 표기 x, 확인 ######\n",
        "        \n",
        "        self.conv2 = Conv2D(filters=64, kernel_size=[3, 3], padding='SAME', activation=tf.nn.relu)\n",
        "        self.drop2 = Dropout(rate=0.2) #20% dropout\n",
        "        self.pool2 = MaxPool2D(padding='SAME')\n",
        "        \n",
        "        self.conv3 = Conv2D(filters=64, kernel_size=[3, 3], padding='SAME', activation=tf.nn.relu)\n",
        "        self.drop3 = Dropout(rate=0.2) #20% dropout\n",
        "        self.pool3 = MaxPool2D(padding='SAME')\n",
        "        \n",
        "        self.pool3_flat = keras.layers.Flatten()\n",
        "        self.dense4 = Dense(units=128, activation=tf.nn.relu)\n",
        "        self.dense5 = Dense(units=5, activation=tf.nn.sigmoid) ### 일단 5. class 개수 추가되는 대로 변경\n",
        "        \n",
        "    def call(self, inputs, training=False):\n",
        "        net = self.conv1(inputs)\n",
        "        net = self.drop1(net)\n",
        "        net = self.pool1(net)\n",
        "        \n",
        "        net = self.conv2(net)\n",
        "        net = self.drop2(net)\n",
        "        net = self.pool2(net)\n",
        "        \n",
        "        net = self.conv3(net)\n",
        "        net = self.drop3(net)\n",
        "        net = self.pool3(net)\n",
        "        \n",
        "        net = self.pool3_flat(net)\n",
        "        net = self.dense4(net)\n",
        "        net = self.dense5(net)\n",
        "        return net"
      ],
      "execution_count": 0,
      "outputs": []
    },
    {
      "cell_type": "code",
      "metadata": {
        "id": "TyyCrX1wH_Rn",
        "colab_type": "code",
        "colab": {}
      },
      "source": [
        "model = AcousticSoundModel()"
      ],
      "execution_count": 0,
      "outputs": []
    },
    {
      "cell_type": "markdown",
      "metadata": {
        "id": "tBDRzz_M315_",
        "colab_type": "text"
      },
      "source": [
        "## Training"
      ]
    },
    {
      "cell_type": "code",
      "metadata": {
        "id": "gPOJcmo9AYZb",
        "colab_type": "code",
        "colab": {}
      },
      "source": [
        "model.compile(loss='categorical_crossentropy',\n",
        "              optimizer=keras.optimizers.Adam(lr=learning_rate),\n",
        "              metrics=['acc'])"
      ],
      "execution_count": 0,
      "outputs": []
    },
    {
      "cell_type": "code",
      "metadata": {
        "id": "X6K0Spxpzbkc",
        "colab_type": "code",
        "colab": {}
      },
      "source": [
        "es = tf.keras.callbacks.EarlyStopping(monitor='val_loss', mode='min', verbose=1, patience=10)"
      ],
      "execution_count": 0,
      "outputs": []
    },
    {
      "cell_type": "code",
      "metadata": {
        "id": "sItLd2TjADMF",
        "colab_type": "code",
        "colab": {}
      },
      "source": [
        "save = tf.keras.callbacks.ModelCheckpoint('best_model.h5', monitor='val_loss', mode='min', save_best_only=True)"
      ],
      "execution_count": 0,
      "outputs": []
    },
    {
      "cell_type": "code",
      "metadata": {
        "id": "OC82XvTesL5w",
        "colab_type": "code",
        "colab": {}
      },
      "source": [
        "callback = [es, save]"
      ],
      "execution_count": 0,
      "outputs": []
    },
    {
      "cell_type": "code",
      "metadata": {
        "id": "ujEWoqNnFDDp",
        "colab_type": "code",
        "outputId": "eebb7b76-88e4-4778-e1bf-43d524c93e63",
        "colab": {
          "base_uri": "https://localhost:8080/",
          "height": 1000
        }
      },
      "source": [
        "hist = model.fit(\n",
        "      train_ds,\n",
        "      steps_per_epoch=STEPS_PER_EPOCH,\n",
        "      epochs=training_epochs,\n",
        "      batch_size = BATCH_SIZE,\n",
        "      validation_data=val_ds,\n",
        "      validation_steps=VALIDATION_STEPS,\n",
        "      callbacks=callback)"
      ],
      "execution_count": 31,
      "outputs": [
        {
          "output_type": "stream",
          "text": [
            "Epoch 1/100\n",
            "55/55 [==============================] - 42s 767ms/step - loss: 1.1280 - acc: 0.3449 - val_loss: 1.0688 - val_acc: 0.3984\n",
            "Epoch 2/100\n",
            "55/55 [==============================] - 21s 375ms/step - loss: 0.7686 - acc: 0.3568 - val_loss: 0.6348 - val_acc: 0.4219\n",
            "Epoch 3/100\n",
            "55/55 [==============================] - 21s 375ms/step - loss: 0.5977 - acc: 0.4730 - val_loss: 0.4883 - val_acc: 0.9115\n",
            "Epoch 4/100\n",
            "55/55 [==============================] - 21s 375ms/step - loss: 0.1234 - acc: 0.9548 - val_loss: 0.1205 - val_acc: 0.9948\n",
            "Epoch 5/100\n",
            "55/55 [==============================] - 21s 376ms/step - loss: 0.0553 - acc: 0.9804 - val_loss: 0.0814 - val_acc: 0.9896\n",
            "Epoch 6/100\n",
            "55/55 [==============================] - 21s 374ms/step - loss: 0.0294 - acc: 0.9901 - val_loss: 0.0433 - val_acc: 0.9974\n",
            "Epoch 7/100\n",
            "55/55 [==============================] - 21s 375ms/step - loss: 0.0220 - acc: 0.9937 - val_loss: 0.0395 - val_acc: 0.9948\n",
            "Epoch 8/100\n",
            "55/55 [==============================] - 21s 374ms/step - loss: 0.0245 - acc: 0.9920 - val_loss: 0.0647 - val_acc: 0.9974\n",
            "Epoch 9/100\n",
            "55/55 [==============================] - 21s 373ms/step - loss: 0.0239 - acc: 0.9960 - val_loss: 0.0949 - val_acc: 0.9635\n",
            "Epoch 10/100\n",
            "55/55 [==============================] - 20s 372ms/step - loss: 0.0635 - acc: 0.9812 - val_loss: 0.0816 - val_acc: 0.9974\n",
            "Epoch 11/100\n",
            "55/55 [==============================] - 21s 374ms/step - loss: 0.0261 - acc: 0.9906 - val_loss: 0.0271 - val_acc: 0.9974\n",
            "Epoch 12/100\n",
            "55/55 [==============================] - 20s 372ms/step - loss: 0.0206 - acc: 0.9937 - val_loss: 0.0379 - val_acc: 0.9974\n",
            "Epoch 13/100\n",
            "55/55 [==============================] - 21s 373ms/step - loss: 0.0137 - acc: 0.9960 - val_loss: 0.0166 - val_acc: 1.0000\n",
            "Epoch 14/100\n",
            "55/55 [==============================] - 21s 373ms/step - loss: 0.0096 - acc: 0.9966 - val_loss: 0.0188 - val_acc: 0.9974\n",
            "Epoch 15/100\n",
            "55/55 [==============================] - 21s 373ms/step - loss: 0.0070 - acc: 0.9972 - val_loss: 0.0137 - val_acc: 0.9974\n",
            "Epoch 16/100\n",
            "55/55 [==============================] - 21s 373ms/step - loss: 0.0243 - acc: 0.9901 - val_loss: 0.0565 - val_acc: 1.0000\n",
            "Epoch 17/100\n",
            "55/55 [==============================] - 20s 371ms/step - loss: 0.0107 - acc: 0.9952 - val_loss: 0.0138 - val_acc: 1.0000\n",
            "Epoch 18/100\n",
            "55/55 [==============================] - 20s 372ms/step - loss: 0.0031 - acc: 0.9991 - val_loss: 0.0233 - val_acc: 0.9974\n",
            "Epoch 19/100\n",
            "55/55 [==============================] - 21s 373ms/step - loss: 0.0029 - acc: 0.9986 - val_loss: 0.0078 - val_acc: 1.0000\n",
            "Epoch 20/100\n",
            "55/55 [==============================] - 21s 374ms/step - loss: 0.0026 - acc: 0.9983 - val_loss: 0.0071 - val_acc: 1.0000\n",
            "Epoch 21/100\n",
            "55/55 [==============================] - 20s 372ms/step - loss: 0.0015 - acc: 0.9997 - val_loss: 0.0075 - val_acc: 1.0000\n",
            "Epoch 22/100\n",
            "55/55 [==============================] - 20s 372ms/step - loss: 0.0043 - acc: 0.9977 - val_loss: 0.0073 - val_acc: 1.0000\n",
            "Epoch 23/100\n",
            "55/55 [==============================] - 21s 374ms/step - loss: 0.0028 - acc: 0.9986 - val_loss: 0.0040 - val_acc: 1.0000\n",
            "Epoch 24/100\n",
            "55/55 [==============================] - 20s 373ms/step - loss: 9.8009e-04 - acc: 0.9997 - val_loss: 0.0082 - val_acc: 1.0000\n",
            "Epoch 25/100\n",
            "55/55 [==============================] - 21s 374ms/step - loss: 5.6560e-04 - acc: 0.9997 - val_loss: 0.0040 - val_acc: 1.0000\n",
            "Epoch 26/100\n",
            "55/55 [==============================] - 21s 374ms/step - loss: 0.0010 - acc: 0.9994 - val_loss: 0.0033 - val_acc: 1.0000\n",
            "Epoch 27/100\n",
            "55/55 [==============================] - 21s 374ms/step - loss: 7.1431e-04 - acc: 0.9994 - val_loss: 0.0023 - val_acc: 1.0000\n",
            "Epoch 28/100\n",
            "55/55 [==============================] - 21s 373ms/step - loss: 0.0015 - acc: 0.9991 - val_loss: 0.0050 - val_acc: 1.0000\n",
            "Epoch 29/100\n",
            "55/55 [==============================] - 20s 372ms/step - loss: 0.0019 - acc: 0.9994 - val_loss: 0.0024 - val_acc: 1.0000\n",
            "Epoch 30/100\n",
            "55/55 [==============================] - 20s 371ms/step - loss: 0.0058 - acc: 0.9980 - val_loss: 0.0338 - val_acc: 0.9948\n",
            "Epoch 31/100\n",
            "55/55 [==============================] - 20s 371ms/step - loss: 0.0942 - acc: 0.9696 - val_loss: 0.0972 - val_acc: 0.9714\n",
            "Epoch 32/100\n",
            "55/55 [==============================] - 20s 371ms/step - loss: 0.0230 - acc: 0.9923 - val_loss: 0.0189 - val_acc: 0.9974\n",
            "Epoch 33/100\n",
            "55/55 [==============================] - 20s 371ms/step - loss: 0.0076 - acc: 0.9974 - val_loss: 0.0038 - val_acc: 1.0000\n",
            "Epoch 34/100\n",
            "55/55 [==============================] - 20s 371ms/step - loss: 0.0024 - acc: 0.9994 - val_loss: 0.0050 - val_acc: 1.0000\n",
            "Epoch 35/100\n",
            "55/55 [==============================] - 21s 373ms/step - loss: 0.0028 - acc: 0.9989 - val_loss: 0.0185 - val_acc: 0.9974\n",
            "Epoch 36/100\n",
            "55/55 [==============================] - 20s 372ms/step - loss: 0.0030 - acc: 0.9991 - val_loss: 0.0045 - val_acc: 1.0000\n",
            "Epoch 37/100\n",
            "55/55 [==============================] - 21s 374ms/step - loss: 4.5756e-04 - acc: 1.0000 - val_loss: 0.0029 - val_acc: 1.0000\n",
            "Epoch 00037: early stopping\n"
          ],
          "name": "stdout"
        }
      ]
    },
    {
      "cell_type": "code",
      "metadata": {
        "id": "xO4EpxUu3Yv_",
        "colab_type": "code",
        "colab": {}
      },
      "source": [
        "# 저장된 모델을 언제든지 로드하고 평가할 수 있습니다.\n",
        "#saved_model = load_model('best_model.h5')"
      ],
      "execution_count": 0,
      "outputs": []
    },
    {
      "cell_type": "markdown",
      "metadata": {
        "id": "t1JaF6cL8vSF",
        "colab_type": "text"
      },
      "source": [
        "## evaluate / prediction"
      ]
    },
    {
      "cell_type": "code",
      "metadata": {
        "id": "2d3UAv768sre",
        "colab_type": "code",
        "outputId": "3b3c60b3-b5f9-4ef1-d0d0-d826c61fdbf7",
        "colab": {
          "base_uri": "https://localhost:8080/",
          "height": 52
        }
      },
      "source": [
        "loss, acc = model.evaluate(test_ds, batch_size=BATCH_SIZE, steps=TEST_STEPS)\n",
        "print('acc: %.2f%%, loss: %f'% (acc*100, loss))"
      ],
      "execution_count": 41,
      "outputs": [
        {
          "output_type": "stream",
          "text": [
            "11/11 [==============================] - 1s 102ms/step - loss: 0.0020 - acc: 1.0000\n",
            "acc: 100.00%, loss: 0.002033\n"
          ],
          "name": "stdout"
        }
      ]
    },
    {
      "cell_type": "code",
      "metadata": {
        "id": "sGc5iU47Eib2",
        "colab_type": "code",
        "outputId": "1e40c87b-2a65-471f-c76e-70c71387041e",
        "colab": {
          "base_uri": "https://localhost:8080/",
          "height": 158
        }
      },
      "source": [
        "print(\"-- Predict --\")\n",
        "output = model.predict(test_ds, steps=TEST_STEPS)\n",
        "np.set_printoptions(formatter={'float': lambda x: \"{0:0.3f}\".format(x)})\n",
        "print(output)"
      ],
      "execution_count": 42,
      "outputs": [
        {
          "output_type": "stream",
          "text": [
            "-- Predict --\n",
            "[[0.000 0.000 0.001 0.468 0.000]\n",
            " [0.000 0.999 0.000 0.000 0.000]\n",
            " [0.000 0.075 0.000 0.000 0.000]\n",
            " ...\n",
            " [0.000 1.000 0.000 0.000 0.000]\n",
            " [0.000 0.986 0.000 0.000 0.000]\n",
            " [0.000 0.999 0.000 0.000 0.000]]\n"
          ],
          "name": "stdout"
        }
      ]
    },
    {
      "cell_type": "code",
      "metadata": {
        "id": "CA7H_I-rFDHZ",
        "colab_type": "code",
        "colab": {}
      },
      "source": [
        "model.save_weights('saveweights', save_format='tf')"
      ],
      "execution_count": 0,
      "outputs": []
    },
    {
      "cell_type": "code",
      "metadata": {
        "id": "-dZByyRV_htE",
        "colab_type": "code",
        "outputId": "f3aeb743-68f0-452b-d8d9-0ec18aa67ca6",
        "colab": {
          "base_uri": "https://localhost:8080/",
          "height": 545
        }
      },
      "source": [
        "acc = hist.history['acc']\n",
        "val_acc = hist.history['val_acc']\n",
        "loss = hist.history['loss']\n",
        "val_loss = hist.history['val_loss']\n",
        "\n",
        "epochs = range(len(acc))\n",
        "\n",
        "plt.plot(epochs, acc, 'bo', label='Training acc')\n",
        "plt.plot(epochs, val_acc, 'b', label='Validation acc')\n",
        "plt.title('Training and validation accuracy')\n",
        "plt.legend()\n",
        "\n",
        "plt.figure()\n",
        "\n",
        "plt.plot(epochs, loss, 'bo', label='Training loss')\n",
        "plt.plot(epochs, val_loss, 'b', label='Validation loss')\n",
        "plt.title('Training and validation loss')\n",
        "plt.legend()\n",
        "\n",
        "plt.show()"
      ],
      "execution_count": 44,
      "outputs": [
        {
          "output_type": "display_data",
          "data": {
            "image/png": "[encoded data removed]",
            "text/plain": [
              "<Figure size 432x288 with 1 Axes>"
            ]
          },
          "metadata": {
            "tags": [],
            "needs_background": "light"
          }
        },
        {
          "output_type": "display_data",
          "data": {
            "image/png": "[encoded data removed]",
            "text/plain": [
              "<Figure size 432x288 with 1 Axes>"
            ]
          },
          "metadata": {
            "tags": [],
            "needs_background": "light"
          }
        }
      ]
    },
    {
      "cell_type": "code",
      "metadata": {
        "id": "arih6Uuo6mWt",
        "colab_type": "code",
        "colab": {}
      },
      "source": [
        "# Explore your VM\n",
        "#!ls -la /\n",
        "# Find disk space and RAM space\n",
        "#!df -h\n",
        "#!free -m\n",
        "\n",
        "#What OS is your VM using:\n",
        "#!cat /etc/os-release"
      ],
      "execution_count": 0,
      "outputs": []
    },
    {
      "cell_type": "code",
      "metadata": {
        "id": "nVmPr9dBYX-N",
        "colab_type": "code",
        "colab": {}
      },
      "source": [
        "#!ls  /root/.keras/datasets/"
      ],
      "execution_count": 0,
      "outputs": []
    },
    {
      "cell_type": "code",
      "metadata": {
        "id": "-8vhH9U0YaNI",
        "colab_type": "code",
        "colab": {}
      },
      "source": [
        "#!ls  /root/.keras/datasets/images.tar.gz/"
      ],
      "execution_count": 0,
      "outputs": []
    }
  ]
}