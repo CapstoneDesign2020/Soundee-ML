{
 "cells": [
  {
   "cell_type": "code",
   "execution_count": 23,
   "metadata": {},
   "outputs": [],
   "source": [
    "import librosa\n",
    "import os\n",
    "import numpy as np\n",
    "import matplotlib.pyplot as plt\n",
    "import glob\n",
    "from pydub import AudioSegment"
   ]
  },
  {
   "cell_type": "code",
   "execution_count": 54,
   "metadata": {},
   "outputs": [],
   "source": [
    "#초로 구분되어있는 폴더불러오기\n",
    "file_list_00s=glob.glob('dataCutting/dropping_object/vol87_drop_object_sound_effects/0s/*')\n",
    "file_list_01s=glob.glob('dataCutting/dropping_object/vol87_drop_object_sound_effects/1s/*')\n",
    "file_list_02s=glob.glob('dataCutting/dropping_object/vol87_drop_object_sound_effects/2s/*')\n",
    "file_list_03s=glob.glob('dataCutting/dropping_object/vol87_drop_object_sound_effects/3s/*')\n",
    "file_list_04s=glob.glob('dataCutting/dropping_object/vol87_drop_object_sound_effects/4s/*')"
   ]
  },
  {
   "cell_type": "code",
   "execution_count": 55,
   "metadata": {},
   "outputs": [],
   "source": [
    "#silence sound 불러오기\n",
    "silence05=AudioSegment.from_wav('dataCutting/silence/5_silence.wav')\n",
    "silence04=AudioSegment.from_wav('dataCutting/silence/4_silence.wav')\n",
    "silence03=AudioSegment.from_wav('dataCutting/silence/3_silence.wav')\n",
    "silence02=AudioSegment.from_wav('dataCutting/silence/2_silence.wav')\n",
    "silence01=AudioSegment.from_wav('dataCutting/silence/1_silence.wav')"
   ]
  },
  {
   "cell_type": "code",
   "execution_count": 29,
   "metadata": {},
   "outputs": [
    {
     "name": "stdout",
     "output_type": "stream",
     "text": [
      "19. Axe Drop 1 Front by Starvolt Id-189218.wav\n",
      "2. Punch Boxing 03 by newagesoup Id-348242.wav\n",
      "25. Crowbar Drop 2 Front by Starvolt Id-189222.wav\n",
      "3. Punch Boxing 02 by newagesoup Id-348243.wav\n",
      "4. Object Drops In Water by danhelbling Id-272392.wav\n",
      "9. Thump 005 by Brokenphono Id-344150.wav\n"
     ]
    }
   ],
   "source": [
    "# 1초짜리 폴더 돌리기\n",
    "\"\"\"\n",
    "for wav in file_list_01s:\n",
    "    if wav.endswith('.wav') :\n",
    "        file_id=os.path.basename(wav)\n",
    "        print(file_id)\n",
    "        original=AudioSegment.from_wav(wav)\n",
    "        add_silence_wav=original+silence04\n",
    "        add_silence_wav.export('add_silence'+file_id,format=\"wav\")\n",
    "\"\"\"       \n",
    "       "
   ]
  },
  {
   "cell_type": "code",
   "execution_count": 52,
   "metadata": {},
   "outputs": [],
   "source": [
    "#함수로 구현\n",
    "def addSilenceWav(file_list,silence):\n",
    "    for wav1 in file_list:\n",
    "        if wav1.endswith('.wav') :\n",
    "            file_id=os.path.basename(wav1)\n",
    "            print(file_id)\n",
    "            original=AudioSegment.from_wav(wav1)\n",
    "            add_silence_wav=original+silence\n",
    "            add_silence_wav.export('add_silence'+file_id,format=\"wav\")\n",
    "    "
   ]
  },
  {
   "cell_type": "code",
   "execution_count": 56,
   "metadata": {},
   "outputs": [
    {
     "name": "stdout",
     "output_type": "stream",
     "text": [
      "11. Drop06 by newagesoup Id-339364.wav\n",
      "14. Thump 001 by Brokenphono Id-344149.wav\n",
      "21. Thump 004 by Brokenphono Id-344151.wav\n",
      "22. Briefcase Dropping Floor by bertiehs Id-271241.wav\n",
      "28. Falling Object   6 by SpaceJoe Id-483653.wav\n",
      "19. Axe Drop 1 Front by Starvolt Id-189218.wav\n",
      "2. Punch Boxing 03 by newagesoup Id-348242.wav\n",
      "25. Crowbar Drop 2 Front by Starvolt Id-189222.wav\n",
      "3. Punch Boxing 02 by newagesoup Id-348243.wav\n",
      "4. Object Drops In Water by danhelbling Id-272392.wav\n",
      "9. Thump 005 by Brokenphono Id-344150.wav\n",
      "1. Small Metal Object Fall  by nicktermer Id-259553.wav\n",
      "12. Drop03 by newagesoup Id-339359.wav\n",
      "15. Drop02 by newagesoup Id-339360.wav\n",
      "17. Metal Pipe Foley by Alternicity Id-133101.wav\n",
      "5. Thrown Object by Bexhillcollege Id-272065.wav\n",
      "7. Drop05 by newagesoup Id-339365.wav\n",
      "cut02_0_10. Dropping Bag Of Bread by qubodup Id-189312.wav\n",
      "cut02_0_13. Hammer Drop by sagetyrtle Id-75307.wav\n",
      "cut02_6_13. Hammer Drop by sagetyrtle Id-75307.wav\n",
      "cut02_7_30. Key Pick Up Drop by LamaMakesMusic Id-403582.wav\n",
      "20. A Plastic Metal Object Hits The Large Concrete Basement Floor 3 by RutgerMuller Id-104051.wav\n",
      "24. Drop Shit Down Stair by martian Id-19276.wav\n",
      "cut03_0_30. Key Pick Up Drop by LamaMakesMusic Id-403582.wav\n",
      "cut03_2_10. Dropping Bag Of Bread by qubodup Id-189312.wav\n",
      "cut03_7_30. Key Pick Up Drop by LamaMakesMusic Id-403582.wav\n",
      "18. Small Plastic Object Dropped In Large Concrete Basement by RutgerMuller Id-104056.wav\n",
      "8. Objects Dropped by altfuture Id-174626.wav\n",
      "cut04_2_10. Dropping Bag Of Bread by qubodup Id-189312.wav\n",
      "cut04_2_13. Hammer Drop by sagetyrtle Id-75307.wav\n",
      "cut04_3_30. Key Pick Up Drop by LamaMakesMusic Id-403582.wav\n"
     ]
    }
   ],
   "source": [
    "addSilenceWav(file_list_00s,silence05)\n",
    "addSilenceWav(file_list_01s,silence04)\n",
    "addSilenceWav(file_list_02s,silence03)\n",
    "addSilenceWav(file_list_03s,silence02)\n",
    "addSilenceWav(file_list_04s,silence01)"
   ]
  },
  {
   "cell_type": "code",
   "execution_count": null,
   "metadata": {},
   "outputs": [],
   "source": []
  }
 ],
 "metadata": {
  "kernelspec": {
   "display_name": "Python 3",
   "language": "python",
   "name": "python3"
  },
  "language_info": {
   "codemirror_mode": {
    "name": "ipython",
    "version": 3
   },
   "file_extension": ".py",
   "mimetype": "text/x-python",
   "name": "python",
   "nbconvert_exporter": "python",
   "pygments_lexer": "ipython3",
   "version": "3.7.6"
  }
 },
 "nbformat": 4,
 "nbformat_minor": 4
}
