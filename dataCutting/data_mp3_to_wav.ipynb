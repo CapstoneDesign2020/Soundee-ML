{
 "cells": [
  {
   "cell_type": "code",
   "execution_count": 52,
   "metadata": {},
   "outputs": [],
   "source": [
    "from pydub import AudioSegment\n",
    "import glob\n",
    "import os"
   ]
  },
  {
   "cell_type": "code",
   "execution_count": 53,
   "metadata": {},
   "outputs": [
    {
     "name": "stdout",
     "output_type": "stream",
     "text": [
      "['dataCutting/baby_crying\\\\Baby Crying   New Born Baby Crying  6 minuntes SOUND EFFECT  freesound (320  kbps).mp3', 'dataCutting/baby_crying\\\\Baby Crying (320  kbps).mp3', 'dataCutting/baby_crying\\\\Baby Crying Sound Effect (320  kbps) (1).mp3', 'dataCutting/baby_crying\\\\Baby Crying Sound Effect (320  kbps).mp3', 'dataCutting/baby_crying\\\\Baby Crying Sounds SOUND EFFECT medium (320  kbps).mp3', 'dataCutting/baby_crying\\\\baby_crying_youtube.zip', 'dataCutting/baby_crying\\\\Crying Baby Sound Effect (320  kbps).mp3', 'dataCutting/baby_crying\\\\Crying newborn baby child  Sound Effect (320  kbps).mp3', 'dataCutting/baby_crying\\\\wav']\n"
     ]
    }
   ],
   "source": [
    "file_list_youtube =glob.glob('dataCutting/baby_crying/*')\n",
    "print(file_list_youtube)"
   ]
  },
  {
   "cell_type": "code",
   "execution_count": 59,
   "metadata": {},
   "outputs": [],
   "source": [
    "#mp3에서 wav로 변환\n",
    "def formatFromMp3ToWav(mp3):\n",
    "    if wav.endswith('.mp3') :\n",
    "        # 확장자명 제외하고 파일이름 저장\n",
    "        file_id=os.path.splitext(mp3)\n",
    "        file_id=os.path.split(file_id[0])\n",
    "        file_id=file_id[1]\n",
    "        print(file_id)\n",
    "        sound = AudioSegment.from_mp3(mp3)\n",
    "        sound.export(file_id+\".wav\", format=\"wav\")"
   ]
  },
  {
   "cell_type": "code",
   "execution_count": 60,
   "metadata": {},
   "outputs": [],
   "source": [
    "for sound in file_list_youtube:\n",
    "    formatFromMp3ToWav(sound)"
   ]
  },
  {
   "cell_type": "code",
   "execution_count": 61,
   "metadata": {},
   "outputs": [],
   "source": [
    "#5초마다 자르기\n",
    "def cuttingBasedOnTime5s(wav):\n",
    "    if wav.endswith('.wav') :\n",
    "        original = AudioSegment.from_wav(wav)\n",
    "        length=original.duration_seconds #오디오 길이\n",
    "        file_id=os.path.basename(wav)\n",
    "        t1=0*1000\n",
    "        t2=5*1000\n",
    "        while length >=5:\n",
    "            cut_wav=original[t1:t2]\n",
    "            cut_wav.export('cut0'+'_'+str(t1/1000)+'_'+file_id,format=\"wav\")\n",
    "            length=length-5\n",
    "            t1+=5*1000\n",
    "            t2+=5*1000"
   ]
  },
  {
   "cell_type": "code",
   "execution_count": 62,
   "metadata": {},
   "outputs": [
    {
     "name": "stdout",
     "output_type": "stream",
     "text": [
      "['dataCutting/baby_crying/wav\\\\Baby Crying   New Born Baby Crying  6 minuntes SOUND EFFECT  freesound (320  kbps).wav', 'dataCutting/baby_crying/wav\\\\Baby Crying (320  kbps).wav', 'dataCutting/baby_crying/wav\\\\Baby Crying Sound Effect (320  kbps) (1).wav', 'dataCutting/baby_crying/wav\\\\Baby Crying Sound Effect (320  kbps).wav', 'dataCutting/baby_crying/wav\\\\Baby Crying Sounds SOUND EFFECT medium (320  kbps).wav', 'dataCutting/baby_crying/wav\\\\Crying Baby Sound Effect (320  kbps).wav', 'dataCutting/baby_crying/wav\\\\Crying newborn baby child  Sound Effect (320  kbps).wav']\n"
     ]
    }
   ],
   "source": [
    "file_list_youtube_wav =glob.glob('dataCutting/baby_crying/wav/*')\n",
    "print(file_list_youtube_wav)\n",
    "\n",
    "for wav in file_list_youtube_wav:\n",
    "    cuttingBasedOnTime5s(wav)"
   ]
  }
 ],
 "metadata": {
  "kernelspec": {
   "display_name": "Python 3",
   "language": "python",
   "name": "python3"
  },
  "language_info": {
   "codemirror_mode": {
    "name": "ipython",
    "version": 3
   },
   "file_extension": ".py",
   "mimetype": "text/x-python",
   "name": "python",
   "nbconvert_exporter": "python",
   "pygments_lexer": "ipython3",
   "version": "3.7.6"
  }
 },
 "nbformat": 4,
 "nbformat_minor": 4
}
