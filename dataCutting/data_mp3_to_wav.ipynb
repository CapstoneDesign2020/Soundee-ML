{
 "cells": [
  {
   "cell_type": "code",
   "execution_count": 52,
   "metadata": {},
   "outputs": [],
   "source": [
    "from pydub import AudioSegment\n",
    "import glob\n",
    "import os"
   ]
  },
  {
   "cell_type": "code",
   "execution_count": 53,
   "metadata": {},
   "outputs": [
    {
     "name": "stdout",
     "output_type": "stream",
     "text": [
      "['dataCutting/baby_crying\\\\Baby Crying   New Born Baby Crying  6 minuntes SOUND EFFECT  freesound (320  kbps).mp3', 'dataCutting/baby_crying\\\\Baby Crying (320  kbps).mp3', 'dataCutting/baby_crying\\\\Baby Crying Sound Effect (320  kbps) (1).mp3', 'dataCutting/baby_crying\\\\Baby Crying Sound Effect (320  kbps).mp3', 'dataCutting/baby_crying\\\\Baby Crying Sounds SOUND EFFECT medium (320  kbps).mp3', 'dataCutting/baby_crying\\\\baby_crying_youtube.zip', 'dataCutting/baby_crying\\\\Crying Baby Sound Effect (320  kbps).mp3', 'dataCutting/baby_crying\\\\Crying newborn baby child  Sound Effect (320  kbps).mp3', 'dataCutting/baby_crying\\\\wav']\n"
     ]
    }
   ],
   "source": [
    "file_list_youtube =glob.glob('dataCutting/baby_crying/*')\n",
    "print(file_list_youtube)"
   ]
  },
  {
   "cell_type": "code",
   "execution_count": 59,
   "metadata": {},
   "outputs": [],
   "source": [
    "#mp3에서 wav로 변환\n",
    "def formatFromMp3ToWav(mp3):\n",
    "    if wav.endswith('.mp3') :\n",
    "        # 확장자명 제외하고 파일이름 저장\n",
    "        file_id=os.path.splitext(mp3)\n",
    "        file_id=os.path.split(file_id[0])\n",
    "        file_id=file_id[1]\n",
    "        print(file_id)\n",
    "        sound = AudioSegment.from_mp3(mp3)\n",
    "        sound.export(file_id+\".wav\", format=\"wav\")"
   ]
  },
  {
   "cell_type": "code",
   "execution_count": 60,
   "metadata": {},
   "outputs": [],
   "source": [
    "for sound in file_list_youtube:\n",
    "    formatFromMp3ToWav(sound)"
   ]
  },
  {
   "cell_type": "code",
   "execution_count": 100,
   "metadata": {},
   "outputs": [],
   "source": [
    "#5초마다 자르기\n",
    "def cuttingBasedOnTime5s(wav,file_id):\n",
    "        length=wav.duration_seconds #오디오 길이\n",
    "        # print(file_id+str(length))\n",
    "        # print()\n",
    "        t1=0*1000\n",
    "        t2=5*1000\n",
    "        while length >=5:\n",
    "            cut_wav=original[t1:t2]\n",
    "            cut_wav.export('cut0'+'_'+str(t1/1000)+'_'+file_id,format=\"wav\")\n",
    "            length=length-5\n",
    "            t1+=5*1000\n",
    "            t2+=5*1000"
   ]
  },
  {
   "cell_type": "code",
   "execution_count": 102,
   "metadata": {},
   "outputs": [
    {
     "name": "stdout",
     "output_type": "stream",
     "text": [
      "['dataCutting/baby_crying/wav\\\\Baby Crying   New Born Baby Crying  6 minuntes SOUND EFFECT  freesound (320  kbps).wav', 'dataCutting/baby_crying/wav\\\\Baby Crying (320  kbps).wav', 'dataCutting/baby_crying/wav\\\\Baby Crying Sound Effect (320  kbps) (1).wav', 'dataCutting/baby_crying/wav\\\\Baby Crying Sound Effect (320  kbps).wav', 'dataCutting/baby_crying/wav\\\\Baby Crying Sounds SOUND EFFECT medium (320  kbps).wav', 'dataCutting/baby_crying/wav\\\\Crying Baby Sound Effect (320  kbps).wav', 'dataCutting/baby_crying/wav\\\\Crying newborn baby child  Sound Effect (320  kbps).wav']\n"
     ]
    }
   ],
   "source": [
    "file_list_youtube_wav =glob.glob('dataCutting/baby_crying/wav/*')\n",
    "print(file_list_youtube_wav)\n",
    "\n",
    "for wav_file in file_list_youtube_wav:\n",
    "    if wav_file.endswith('.wav') :\n",
    "        wav = AudioSegment.from_wav(wav_file)\n",
    "        file_id=os.path.basename(wav_file)\n",
    "        cuttingBasedOnTime5s(wav,file_id)"
   ]
  },
  {
   "cell_type": "code",
   "execution_count": 103,
   "metadata": {},
   "outputs": [
    {
     "name": "stdout",
     "output_type": "stream",
     "text": [
      "['dataCutting/dog\\\\5s', 'dataCutting/dog\\\\dog_barking_0.wav', 'dataCutting/dog\\\\dog_barking_1.wav', 'dataCutting/dog\\\\dog_barking_10.wav', 'dataCutting/dog\\\\dog_barking_100.wav', 'dataCutting/dog\\\\dog_barking_101.wav', 'dataCutting/dog\\\\dog_barking_102.wav', 'dataCutting/dog\\\\dog_barking_103.wav', 'dataCutting/dog\\\\dog_barking_104.wav', 'dataCutting/dog\\\\dog_barking_105.wav', 'dataCutting/dog\\\\dog_barking_106.wav', 'dataCutting/dog\\\\dog_barking_108.wav', 'dataCutting/dog\\\\dog_barking_11.wav', 'dataCutting/dog\\\\dog_barking_110.wav', 'dataCutting/dog\\\\dog_barking_111.wav', 'dataCutting/dog\\\\dog_barking_112.wav', 'dataCutting/dog\\\\dog_barking_12.wav', 'dataCutting/dog\\\\dog_barking_13.wav', 'dataCutting/dog\\\\dog_barking_14.wav', 'dataCutting/dog\\\\dog_barking_15.wav', 'dataCutting/dog\\\\dog_barking_16.wav', 'dataCutting/dog\\\\dog_barking_17.wav', 'dataCutting/dog\\\\dog_barking_18.wav', 'dataCutting/dog\\\\dog_barking_19.wav', 'dataCutting/dog\\\\dog_barking_2.wav', 'dataCutting/dog\\\\dog_barking_20.wav', 'dataCutting/dog\\\\dog_barking_21.wav', 'dataCutting/dog\\\\dog_barking_22.wav', 'dataCutting/dog\\\\dog_barking_23.wav', 'dataCutting/dog\\\\dog_barking_24.wav', 'dataCutting/dog\\\\dog_barking_25.wav', 'dataCutting/dog\\\\dog_barking_26.wav', 'dataCutting/dog\\\\dog_barking_27.wav', 'dataCutting/dog\\\\dog_barking_28.wav', 'dataCutting/dog\\\\dog_barking_29.wav', 'dataCutting/dog\\\\dog_barking_3.wav', 'dataCutting/dog\\\\dog_barking_30.wav', 'dataCutting/dog\\\\dog_barking_31.wav', 'dataCutting/dog\\\\dog_barking_32.wav', 'dataCutting/dog\\\\dog_barking_33.wav', 'dataCutting/dog\\\\dog_barking_34.wav', 'dataCutting/dog\\\\dog_barking_35.wav', 'dataCutting/dog\\\\dog_barking_36.wav', 'dataCutting/dog\\\\dog_barking_37.wav', 'dataCutting/dog\\\\dog_barking_38.wav', 'dataCutting/dog\\\\dog_barking_39.wav', 'dataCutting/dog\\\\dog_barking_4.wav', 'dataCutting/dog\\\\dog_barking_40.wav', 'dataCutting/dog\\\\dog_barking_41.wav', 'dataCutting/dog\\\\dog_barking_42.wav', 'dataCutting/dog\\\\dog_barking_43.wav', 'dataCutting/dog\\\\dog_barking_44.wav', 'dataCutting/dog\\\\dog_barking_45.wav', 'dataCutting/dog\\\\dog_barking_46.wav', 'dataCutting/dog\\\\dog_barking_47.wav', 'dataCutting/dog\\\\dog_barking_48.wav', 'dataCutting/dog\\\\dog_barking_49.wav', 'dataCutting/dog\\\\dog_barking_5.wav', 'dataCutting/dog\\\\dog_barking_50.wav', 'dataCutting/dog\\\\dog_barking_51.wav', 'dataCutting/dog\\\\dog_barking_52.wav', 'dataCutting/dog\\\\dog_barking_53.wav', 'dataCutting/dog\\\\dog_barking_54.wav', 'dataCutting/dog\\\\dog_barking_55.wav', 'dataCutting/dog\\\\dog_barking_56.wav', 'dataCutting/dog\\\\dog_barking_57.wav', 'dataCutting/dog\\\\dog_barking_58.wav', 'dataCutting/dog\\\\dog_barking_59.wav', 'dataCutting/dog\\\\dog_barking_6.wav', 'dataCutting/dog\\\\dog_barking_60.wav', 'dataCutting/dog\\\\dog_barking_61.wav', 'dataCutting/dog\\\\dog_barking_62.wav', 'dataCutting/dog\\\\dog_barking_63.wav', 'dataCutting/dog\\\\dog_barking_64.wav', 'dataCutting/dog\\\\dog_barking_65.wav', 'dataCutting/dog\\\\dog_barking_66.wav', 'dataCutting/dog\\\\dog_barking_67.wav', 'dataCutting/dog\\\\dog_barking_68.wav', 'dataCutting/dog\\\\dog_barking_69.wav', 'dataCutting/dog\\\\dog_barking_7.wav', 'dataCutting/dog\\\\dog_barking_70.wav', 'dataCutting/dog\\\\dog_barking_71.wav', 'dataCutting/dog\\\\dog_barking_72.wav', 'dataCutting/dog\\\\dog_barking_73.wav', 'dataCutting/dog\\\\dog_barking_74.wav', 'dataCutting/dog\\\\dog_barking_75.wav', 'dataCutting/dog\\\\dog_barking_76.wav', 'dataCutting/dog\\\\dog_barking_77.wav', 'dataCutting/dog\\\\dog_barking_78.wav', 'dataCutting/dog\\\\dog_barking_79.wav', 'dataCutting/dog\\\\dog_barking_8.wav', 'dataCutting/dog\\\\dog_barking_80.wav', 'dataCutting/dog\\\\dog_barking_81.wav', 'dataCutting/dog\\\\dog_barking_82.wav', 'dataCutting/dog\\\\dog_barking_83.wav', 'dataCutting/dog\\\\dog_barking_84.wav', 'dataCutting/dog\\\\dog_barking_85.wav', 'dataCutting/dog\\\\dog_barking_86.wav', 'dataCutting/dog\\\\dog_barking_87.wav', 'dataCutting/dog\\\\dog_barking_88.wav', 'dataCutting/dog\\\\dog_barking_89.wav', 'dataCutting/dog\\\\dog_barking_9.wav', 'dataCutting/dog\\\\dog_barking_90.wav', 'dataCutting/dog\\\\dog_barking_91.wav', 'dataCutting/dog\\\\dog_barking_92.wav', 'dataCutting/dog\\\\dog_barking_93.wav', 'dataCutting/dog\\\\dog_barking_94.wav', 'dataCutting/dog\\\\dog_barking_95.wav', 'dataCutting/dog\\\\dog_barking_96.wav', 'dataCutting/dog\\\\dog_barking_97.wav', 'dataCutting/dog\\\\dog_barking_98.wav', 'dataCutting/dog\\\\dog_barking_99.wav', 'dataCutting/dog\\\\dog_breaking_5s.zip']\n"
     ]
    }
   ],
   "source": [
    "file_list_dog =glob.glob('dataCutting/dog/*')\n",
    "print(file_list_dog)\n",
    "\n",
    "for wav_file in file_list_dog:\n",
    "    if wav_file.endswith('.wav') :\n",
    "        file_id=os.path.basename(wav_file)\n",
    "        wav = AudioSegment.from_wav(wav_file)\n",
    "        length=wav.duration_seconds #오디오 길이\n",
    "        if(length>=5) :\n",
    "            cuttingBasedOnTime5s(wav,file_id)\n",
    "        else :\n",
    "            addSilenceWav(wav,length,file_id)\n",
    "            "
   ]
  },
  {
   "cell_type": "code",
   "execution_count": 104,
   "metadata": {},
   "outputs": [],
   "source": [
    "#silence sound 불러오기\n",
    "silence05=AudioSegment.from_wav('dataCutting/silence/5_silence.wav')\n",
    "silence04=AudioSegment.from_wav('dataCutting/silence/4_silence.wav')\n",
    "silence03=AudioSegment.from_wav('dataCutting/silence/3_silence.wav')\n",
    "silence02=AudioSegment.from_wav('dataCutting/silence/2_silence.wav')\n",
    "silence01=AudioSegment.from_wav('dataCutting/silence/1_silence.wav')\n",
    "\n",
    "#공백 추가 하고 5초로 wav file추출하는 함수\n",
    "def addSilenceWav(wav1,length,file_id):\n",
    "    # print(\"addSlice\")\n",
    "    # print(length)\n",
    "    if length<=1:\n",
    "        add_silence_wav=wav1+silence05\n",
    "    elif length <=2 :\n",
    "        add_silence_wav=wav1+silence04\n",
    "    elif length <=3 :\n",
    "        add_silence_wav=wav1+silence03\n",
    "    elif length <=4:\n",
    "        add_silence_wav=wav1+silence02\n",
    "    elif length <=5:\n",
    "        add_silence_wav=wav1+silence01\n",
    "            \n",
    "    t1=0*1000\n",
    "    t2=5*1000\n",
    "    add_silence_wav=add_silence_wav[t1:t2]\n",
    "    add_silence_wav.export('add_silence'+file_id,format=\"wav\")"
   ]
  },
  {
   "cell_type": "code",
   "execution_count": null,
   "metadata": {},
   "outputs": [],
   "source": []
  }
 ],
 "metadata": {
  "kernelspec": {
   "display_name": "Python 3",
   "language": "python",
   "name": "python3"
  },
  "language_info": {
   "codemirror_mode": {
    "name": "ipython",
    "version": 3
   },
   "file_extension": ".py",
   "mimetype": "text/x-python",
   "name": "python",
   "nbconvert_exporter": "python",
   "pygments_lexer": "ipython3",
   "version": "3.7.6"
  }
 },
 "nbformat": 4,
 "nbformat_minor": 4
}
