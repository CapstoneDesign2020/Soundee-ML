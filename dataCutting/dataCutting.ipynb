{
 "cells": [
  {
   "cell_type": "code",
   "execution_count": 6,
   "metadata": {},
   "outputs": [],
   "source": [
    "import librosa\n",
    "import os\n",
    "import numpy as np\n",
    "import matplotlib.pyplot as plt"
   ]
  },
  {
   "cell_type": "code",
   "execution_count": 82,
   "metadata": {},
   "outputs": [],
   "source": [
    "wav='code/dataCutting/vaccum_cleaner/DevNode1_ex218_1.wav'\n",
    "(file_dir,file_id)=os.path.split(wav)"
   ]
  },
  {
   "cell_type": "code",
   "execution_count": 66,
   "metadata": {},
   "outputs": [],
   "source": [
    "import glob"
   ]
  },
  {
   "cell_type": "code",
   "execution_count": 71,
   "metadata": {},
   "outputs": [],
   "source": [
    "wav=glob.glob(\"code/dataCutting/vaccum_cleaner/DevNode1_ex218_1.wav\")"
   ]
  },
  {
   "cell_type": "code",
   "execution_count": 83,
   "metadata": {},
   "outputs": [
    {
     "name": "stdout",
     "output_type": "stream",
     "text": [
      "file_dir code/dataCutting/vaccum_cleaner\n"
     ]
    }
   ],
   "source": [
    "print(\"file_dir\",file_dir)"
   ]
  },
  {
   "cell_type": "code",
   "execution_count": null,
   "metadata": {},
   "outputs": [],
   "source": []
  },
  {
   "cell_type": "code",
   "execution_count": 84,
   "metadata": {},
   "outputs": [
    {
     "name": "stdout",
     "output_type": "stream",
     "text": [
      "file_id DevNode1_ex218_1.wav\n"
     ]
    }
   ],
   "source": [
    "print(\"file_id\",file_id)"
   ]
  },
  {
   "cell_type": "code",
   "execution_count": 62,
   "metadata": {},
   "outputs": [],
   "source": [
    "#original"
   ]
  },
  {
   "cell_type": "code",
   "execution_count": 85,
   "metadata": {},
   "outputs": [],
   "source": [
    "y,sr = librosa.load(wav,sr=16000)"
   ]
  },
  {
   "cell_type": "code",
   "execution_count": null,
   "metadata": {},
   "outputs": [],
   "source": []
  },
  {
   "cell_type": "code",
   "execution_count": 86,
   "metadata": {},
   "outputs": [],
   "source": [
    "time = np.linspace(0,len(y)/sr,len(y)) #time axis"
   ]
  },
  {
   "cell_type": "code",
   "execution_count": 87,
   "metadata": {},
   "outputs": [
    {
     "data": {
      "image/png": "[encoded data removed]",
      "text/plain": [
       "<Figure size 432x288 with 1 Axes>"
      ]
     },
     "metadata": {
      "needs_background": "light"
     },
     "output_type": "display_data"
    }
   ],
   "source": [
    "fig,ax1 = plt.subplots() #plot"
   ]
  },
  {
   "cell_type": "code",
   "execution_count": 96,
   "metadata": {},
   "outputs": [
    {
     "data": {
      "text/plain": [
       "Text(0.5, 1.0, 'DevNode1_ex218_1.wav')"
      ]
     },
     "execution_count": 96,
     "metadata": {},
     "output_type": "execute_result"
    },
    {
     "data": {
      "image/png": "[encoded data removed]",
      "text/plain": [
       "<Figure size 432x288 with 1 Axes>"
      ]
     },
     "metadata": {
      "needs_background": "light"
     },
     "output_type": "display_data"
    }
   ],
   "source": [
    "ax1.plot(time,y,color='b',label='speech waveform')\n",
    "ax1.set_ylabel(\"amplitude\") #y축\n",
    "ax1.set_xlabel(\"Time [s]\") #x축\n",
    "plt.title(file_id) # 제목"
   ]
  },
  {
   "cell_type": "code",
   "execution_count": 92,
   "metadata": {},
   "outputs": [
    {
     "data": {
      "text/plain": [
       "Text(3.200000000000003, 0.5, 'amplitude')"
      ]
     },
     "execution_count": 92,
     "metadata": {},
     "output_type": "execute_result"
    }
   ],
   "source": [
    "ax1.set_ylabel(\"amplitude\") #y축"
   ]
  },
  {
   "cell_type": "code",
   "execution_count": 93,
   "metadata": {},
   "outputs": [
    {
     "data": {
      "text/plain": [
       "Text(0.5, 3.1999999999999993, 'Time [s]')"
      ]
     },
     "execution_count": 93,
     "metadata": {},
     "output_type": "execute_result"
    }
   ],
   "source": [
    "ax1.set_xlabel(\"Time [s]\") #x축"
   ]
  },
  {
   "cell_type": "code",
   "execution_count": 94,
   "metadata": {},
   "outputs": [
    {
     "data": {
      "text/plain": [
       "Text(0.5, 1.0, 'DevNode1_ex218_1.wav')"
      ]
     },
     "execution_count": 94,
     "metadata": {},
     "output_type": "execute_result"
    },
    {
     "data": {
      "image/png": "[encoded data removed]",
      "text/plain": [
       "<Figure size 432x288 with 1 Axes>"
      ]
     },
     "metadata": {
      "needs_background": "light"
     },
     "output_type": "display_data"
    }
   ],
   "source": [
    "plt.title(file_id) # 제목"
   ]
  },
  {
   "cell_type": "code",
   "execution_count": 97,
   "metadata": {},
   "outputs": [
    {
     "data": {
      "text/plain": [
       "<Figure size 432x288 with 0 Axes>"
      ]
     },
     "metadata": {},
     "output_type": "display_data"
    }
   ],
   "source": [
    "plt.savefig(file_id+\".png\") #저장하기"
   ]
  },
  {
   "cell_type": "code",
   "execution_count": 89,
   "metadata": {},
   "outputs": [],
   "source": [
    "plt.show()"
   ]
  },
  {
   "cell_type": "code",
   "execution_count": 90,
   "metadata": {},
   "outputs": [],
   "source": [
    "librosa.output.write_wav(\"original\"+file_id,y,sr)\n",
    "# original wav to save mp3 file"
   ]
  },
  {
   "cell_type": "code",
   "execution_count": 98,
   "metadata": {},
   "outputs": [],
   "source": [
    "\n",
    "#cut half and save\n",
    "half = len(y)/2"
   ]
  },
  {
   "cell_type": "code",
   "execution_count": 99,
   "metadata": {},
   "outputs": [],
   "source": [
    "y2=y[:round(half)]"
   ]
  },
  {
   "cell_type": "code",
   "execution_count": 100,
   "metadata": {},
   "outputs": [],
   "source": [
    "time2=np.linspace(0,len(y2)/sr,len(y2))"
   ]
  },
  {
   "cell_type": "code",
   "execution_count": 101,
   "metadata": {},
   "outputs": [
    {
     "data": {
      "image/png": "[encoded data removed]",
      "text/plain": [
       "<Figure size 432x288 with 1 Axes>"
      ]
     },
     "metadata": {
      "needs_background": "light"
     },
     "output_type": "display_data"
    }
   ],
   "source": [
    "fig2,ax2=plt.subplots()"
   ]
  },
  {
   "cell_type": "code",
   "execution_count": 102,
   "metadata": {},
   "outputs": [
    {
     "data": {
      "text/plain": [
       "[<matplotlib.lines.Line2D at 0x2a8ec645a08>]"
      ]
     },
     "execution_count": 102,
     "metadata": {},
     "output_type": "execute_result"
    }
   ],
   "source": [
    "ax2.plot(time2,y2,color='b',label='speech waveform')"
   ]
  },
  {
   "cell_type": "code",
   "execution_count": 103,
   "metadata": {},
   "outputs": [
    {
     "data": {
      "text/plain": [
       "Text(0.5, 3.1999999999999993, 'Time [s]')"
      ]
     },
     "execution_count": 103,
     "metadata": {},
     "output_type": "execute_result"
    }
   ],
   "source": [
    "ax2.set_ylabel(\"Amplitude\") # y 축\n",
    "ax2.set_xlabel(\"Time [s]\") # x 축"
   ]
  },
  {
   "cell_type": "code",
   "execution_count": 104,
   "metadata": {},
   "outputs": [
    {
     "data": {
      "text/plain": [
       "Text(0.5, 1.0, 'cut DevNode1_ex218_1.wav')"
      ]
     },
     "execution_count": 104,
     "metadata": {},
     "output_type": "execute_result"
    },
    {
     "data": {
      "image/png": "[encoded data removed]",
      "text/plain": [
       "<Figure size 432x288 with 1 Axes>"
      ]
     },
     "metadata": {
      "needs_background": "light"
     },
     "output_type": "display_data"
    }
   ],
   "source": [
    "plt.title('cut '+file_id)"
   ]
  },
  {
   "cell_type": "code",
   "execution_count": 105,
   "metadata": {},
   "outputs": [
    {
     "data": {
      "text/plain": [
       "<Figure size 432x288 with 0 Axes>"
      ]
     },
     "metadata": {},
     "output_type": "display_data"
    }
   ],
   "source": [
    "plt.savefig('cut_half '+file_id +'.png')"
   ]
  },
  {
   "cell_type": "code",
   "execution_count": 106,
   "metadata": {},
   "outputs": [],
   "source": [
    "plt.show()"
   ]
  },
  {
   "cell_type": "code",
   "execution_count": 108,
   "metadata": {},
   "outputs": [],
   "source": [
    "librosa.output.write_wav(\"cut\"+file_id,y2,sr)\n",
    "# original wav to save mp3 file"
   ]
  },
  {
   "cell_type": "code",
   "execution_count": 3,
   "metadata": {},
   "outputs": [],
   "source": [
    "import glob"
   ]
  },
  {
   "cell_type": "code",
   "execution_count": 4,
   "metadata": {},
   "outputs": [
    {
     "name": "stdout",
     "output_type": "stream",
     "text": [
      "['code/dataCutting/vaccum_cleaner\\\\desktop.ini', 'code/dataCutting/vaccum_cleaner\\\\DevNode1_ex218_1.wav', 'code/dataCutting/vaccum_cleaner\\\\DevNode1_ex219_1.wav', 'code/dataCutting/vaccum_cleaner\\\\DevNode1_ex220_1.wav', 'code/dataCutting/vaccum_cleaner\\\\DevNode1_ex221_1.wav', 'code/dataCutting/vaccum_cleaner\\\\DevNode1_ex222_1.wav', 'code/dataCutting/vaccum_cleaner\\\\DevNode1_ex223_1.wav', 'code/dataCutting/vaccum_cleaner\\\\DevNode1_ex224_1.wav', 'code/dataCutting/vaccum_cleaner\\\\DevNode1_ex225_1.wav', 'code/dataCutting/vaccum_cleaner\\\\DevNode1_ex226_1.wav', 'code/dataCutting/vaccum_cleaner\\\\DevNode2_ex218_1.wav', 'code/dataCutting/vaccum_cleaner\\\\DevNode2_ex219_1.wav', 'code/dataCutting/vaccum_cleaner\\\\DevNode2_ex220_1.wav', 'code/dataCutting/vaccum_cleaner\\\\DevNode2_ex221_1.wav', 'code/dataCutting/vaccum_cleaner\\\\DevNode2_ex222_1.wav', 'code/dataCutting/vaccum_cleaner\\\\DevNode2_ex223_1.wav', 'code/dataCutting/vaccum_cleaner\\\\DevNode2_ex224_1.wav', 'code/dataCutting/vaccum_cleaner\\\\DevNode2_ex225_1.wav', 'code/dataCutting/vaccum_cleaner\\\\DevNode2_ex226_1.wav', 'code/dataCutting/vaccum_cleaner\\\\DevNode3_ex218_1.wav', 'code/dataCutting/vaccum_cleaner\\\\DevNode3_ex219_1.wav', 'code/dataCutting/vaccum_cleaner\\\\DevNode3_ex220_1.wav', 'code/dataCutting/vaccum_cleaner\\\\DevNode3_ex221_1.wav', 'code/dataCutting/vaccum_cleaner\\\\DevNode3_ex222_1.wav', 'code/dataCutting/vaccum_cleaner\\\\DevNode3_ex223_1.wav', 'code/dataCutting/vaccum_cleaner\\\\DevNode3_ex224_1.wav', 'code/dataCutting/vaccum_cleaner\\\\DevNode3_ex225_1.wav', 'code/dataCutting/vaccum_cleaner\\\\DevNode3_ex226_1.wav', 'code/dataCutting/vaccum_cleaner\\\\DevNode4_ex218_1.wav', 'code/dataCutting/vaccum_cleaner\\\\DevNode4_ex219_1.wav', 'code/dataCutting/vaccum_cleaner\\\\DevNode4_ex220_1.wav', 'code/dataCutting/vaccum_cleaner\\\\DevNode4_ex221_1.wav', 'code/dataCutting/vaccum_cleaner\\\\DevNode4_ex222_1.wav', 'code/dataCutting/vaccum_cleaner\\\\DevNode4_ex223_1.wav', 'code/dataCutting/vaccum_cleaner\\\\DevNode4_ex224_1.wav', 'code/dataCutting/vaccum_cleaner\\\\DevNode4_ex225_1.wav', 'code/dataCutting/vaccum_cleaner\\\\DevNode4_ex226_1.wav']\n"
     ]
    }
   ],
   "source": [
    "#for문\n",
    "file_list =glob.glob('code/dataCutting/vaccum_cleaner/*')\n",
    "print(file_list)"
   ]
  },
  {
   "cell_type": "code",
   "execution_count": 12,
   "metadata": {},
   "outputs": [
    {
     "name": "stdout",
     "output_type": "stream",
     "text": [
      "['desktop.ini', 'DevNode1_ex218_1.wav', 'DevNode1_ex219_1.wav', 'DevNode1_ex220_1.wav', 'DevNode1_ex221_1.wav', 'DevNode1_ex222_1.wav', 'DevNode1_ex223_1.wav', 'DevNode1_ex224_1.wav', 'DevNode1_ex225_1.wav', 'DevNode1_ex226_1.wav', 'DevNode2_ex218_1.wav', 'DevNode2_ex219_1.wav', 'DevNode2_ex220_1.wav', 'DevNode2_ex221_1.wav', 'DevNode2_ex222_1.wav', 'DevNode2_ex223_1.wav', 'DevNode2_ex224_1.wav', 'DevNode2_ex225_1.wav', 'DevNode2_ex226_1.wav', 'DevNode3_ex218_1.wav', 'DevNode3_ex219_1.wav', 'DevNode3_ex220_1.wav', 'DevNode3_ex221_1.wav', 'DevNode3_ex222_1.wav', 'DevNode3_ex223_1.wav', 'DevNode3_ex224_1.wav', 'DevNode3_ex225_1.wav', 'DevNode3_ex226_1.wav', 'DevNode4_ex218_1.wav', 'DevNode4_ex219_1.wav', 'DevNode4_ex220_1.wav', 'DevNode4_ex221_1.wav', 'DevNode4_ex222_1.wav', 'DevNode4_ex223_1.wav', 'DevNode4_ex224_1.wav', 'DevNode4_ex225_1.wav', 'DevNode4_ex226_1.wav']\n"
     ]
    }
   ],
   "source": [
    "file_id_list=[]\n",
    "for wav in file_list:\n",
    "    file_id_list.append(os.path.basename(wav))\n",
    "print(file_id_list)"
   ]
  },
  {
   "cell_type": "code",
   "execution_count": 16,
   "metadata": {},
   "outputs": [
    {
     "name": "stdout",
     "output_type": "stream",
     "text": [
      "DevNode1_ex218_1.wav\n",
      "DevNode1_ex219_1.wav\n",
      "DevNode1_ex220_1.wav\n",
      "DevNode1_ex221_1.wav\n",
      "DevNode1_ex222_1.wav\n",
      "DevNode1_ex223_1.wav\n",
      "DevNode1_ex224_1.wav\n",
      "DevNode1_ex225_1.wav\n",
      "DevNode1_ex226_1.wav\n",
      "DevNode2_ex218_1.wav\n",
      "DevNode2_ex219_1.wav\n",
      "DevNode2_ex220_1.wav\n",
      "DevNode2_ex221_1.wav\n",
      "DevNode2_ex222_1.wav\n",
      "DevNode2_ex223_1.wav\n",
      "DevNode2_ex224_1.wav\n",
      "DevNode2_ex225_1.wav\n",
      "DevNode2_ex226_1.wav\n",
      "DevNode3_ex218_1.wav\n",
      "DevNode3_ex219_1.wav\n",
      "DevNode3_ex220_1.wav\n",
      "DevNode3_ex221_1.wav\n",
      "DevNode3_ex222_1.wav\n",
      "DevNode3_ex223_1.wav\n",
      "DevNode3_ex224_1.wav\n",
      "DevNode3_ex225_1.wav\n",
      "DevNode3_ex226_1.wav\n",
      "DevNode4_ex218_1.wav\n",
      "DevNode4_ex219_1.wav\n",
      "DevNode4_ex220_1.wav\n",
      "DevNode4_ex221_1.wav\n",
      "DevNode4_ex222_1.wav\n",
      "DevNode4_ex223_1.wav\n",
      "DevNode4_ex224_1.wav\n",
      "DevNode4_ex225_1.wav\n",
      "DevNode4_ex226_1.wav\n"
     ]
    }
   ],
   "source": [
    "\n",
    "for wav in file_list:\n",
    "    if wav.endswith('.wav') :\n",
    "        file_id=os.path.basename(wav)\n",
    "        print(file_id)\n",
    "        y,sr=librosa.load(wav,sr=16000)\n",
    "        #time = np.linspace(0,len(y)/sr,len(y)) #time axis\n",
    "        #original save\n",
    "        #librosa.output.write_wav(\"original_\"+file_id,y,sr)\n",
    "    \n",
    "        #cut half and save\n",
    "        half = len(y)/2\n",
    "        y2=y[:round(half)]\n",
    "        #time2=np.linspace(0,len(y2)/sr,len(y2))\n",
    "        librosa.output.write_wav(\"cut_\"+file_id,y2,sr)\n"
   ]
  },
  {
   "cell_type": "code",
   "execution_count": null,
   "metadata": {},
   "outputs": [],
   "source": []
  }
 ],
 "metadata": {
  "kernelspec": {
   "display_name": "Python 3",
   "language": "python",
   "name": "python3"
  },
  "language_info": {
   "codemirror_mode": {
    "name": "ipython",
    "version": 3
   },
   "file_extension": ".py",
   "mimetype": "text/x-python",
   "name": "python",
   "nbconvert_exporter": "python",
   "pygments_lexer": "ipython3",
   "version": "3.7.6"
  }
 },
 "nbformat": 4,
 "nbformat_minor": 4
}
