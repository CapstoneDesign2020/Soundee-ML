{
 "cells": [
  {
   "cell_type": "code",
   "execution_count": 2,
   "metadata": {},
   "outputs": [],
   "source": [
    "from pydub import AudioSegment\n",
    "import glob\n",
    "import os"
   ]
  },
  {
   "cell_type": "code",
   "execution_count": 3,
   "metadata": {},
   "outputs": [
    {
     "name": "stdout",
     "output_type": "stream",
     "text": [
      "['dataCutting/water/dcase2018_washdishing_d2\\\\desktop.ini', 'dataCutting/water/dcase2018_washdishing_d2\\\\DevNode1_ex56_1.wav', 'dataCutting/water/dcase2018_washdishing_d2\\\\DevNode1_ex57_18.wav', 'dataCutting/water/dcase2018_washdishing_d2\\\\DevNode1_ex57_36.wav', 'dataCutting/water/dcase2018_washdishing_d2\\\\DevNode1_ex58_42.wav', 'dataCutting/water/dcase2018_washdishing_d2\\\\DevNode1_ex58_5.wav', 'dataCutting/water/dcase2018_washdishing_d2\\\\DevNode1_ex60_44.wav', 'dataCutting/water/dcase2018_washdishing_d2\\\\DevNode1_ex61_23.wav', 'dataCutting/water/dcase2018_washdishing_d2\\\\DevNode1_ex61_32.wav', 'dataCutting/water/dcase2018_washdishing_d2\\\\DevNode1_ex62_1.wav', 'dataCutting/water/dcase2018_washdishing_d2\\\\DevNode1_ex62_20.wav', 'dataCutting/water/dcase2018_washdishing_d2\\\\DevNode1_ex65_15.wav', 'dataCutting/water/dcase2018_washdishing_d2\\\\DevNode1_ex65_16.wav', 'dataCutting/water/dcase2018_washdishing_d2\\\\DevNode2_ex56_1.wav', 'dataCutting/water/dcase2018_washdishing_d2\\\\DevNode2_ex57_18.wav', 'dataCutting/water/dcase2018_washdishing_d2\\\\DevNode2_ex57_36.wav', 'dataCutting/water/dcase2018_washdishing_d2\\\\DevNode2_ex58_42.wav', 'dataCutting/water/dcase2018_washdishing_d2\\\\DevNode2_ex58_5.wav', 'dataCutting/water/dcase2018_washdishing_d2\\\\DevNode2_ex60_44.wav', 'dataCutting/water/dcase2018_washdishing_d2\\\\DevNode2_ex61_23.wav', 'dataCutting/water/dcase2018_washdishing_d2\\\\DevNode2_ex61_32.wav', 'dataCutting/water/dcase2018_washdishing_d2\\\\DevNode2_ex62_1.wav', 'dataCutting/water/dcase2018_washdishing_d2\\\\DevNode2_ex62_20.wav', 'dataCutting/water/dcase2018_washdishing_d2\\\\DevNode2_ex65_15.wav', 'dataCutting/water/dcase2018_washdishing_d2\\\\DevNode2_ex65_16.wav', 'dataCutting/water/dcase2018_washdishing_d2\\\\DevNode3_ex56_1.wav', 'dataCutting/water/dcase2018_washdishing_d2\\\\DevNode3_ex57_18.wav', 'dataCutting/water/dcase2018_washdishing_d2\\\\DevNode3_ex57_36.wav', 'dataCutting/water/dcase2018_washdishing_d2\\\\DevNode3_ex58_42.wav', 'dataCutting/water/dcase2018_washdishing_d2\\\\DevNode3_ex58_5.wav', 'dataCutting/water/dcase2018_washdishing_d2\\\\DevNode3_ex60_44.wav', 'dataCutting/water/dcase2018_washdishing_d2\\\\DevNode3_ex61_23.wav', 'dataCutting/water/dcase2018_washdishing_d2\\\\DevNode3_ex61_32.wav', 'dataCutting/water/dcase2018_washdishing_d2\\\\DevNode3_ex62_1.wav', 'dataCutting/water/dcase2018_washdishing_d2\\\\DevNode3_ex62_20.wav', 'dataCutting/water/dcase2018_washdishing_d2\\\\DevNode3_ex65_15.wav', 'dataCutting/water/dcase2018_washdishing_d2\\\\DevNode3_ex65_16.wav', 'dataCutting/water/dcase2018_washdishing_d2\\\\DevNode4_ex56_1.wav', 'dataCutting/water/dcase2018_washdishing_d2\\\\DevNode4_ex57_18.wav', 'dataCutting/water/dcase2018_washdishing_d2\\\\DevNode4_ex57_36.wav', 'dataCutting/water/dcase2018_washdishing_d2\\\\DevNode4_ex58_42.wav', 'dataCutting/water/dcase2018_washdishing_d2\\\\DevNode4_ex58_5.wav', 'dataCutting/water/dcase2018_washdishing_d2\\\\DevNode4_ex60_44.wav', 'dataCutting/water/dcase2018_washdishing_d2\\\\DevNode4_ex61_23.wav', 'dataCutting/water/dcase2018_washdishing_d2\\\\DevNode4_ex61_32.wav', 'dataCutting/water/dcase2018_washdishing_d2\\\\DevNode4_ex62_1.wav', 'dataCutting/water/dcase2018_washdishing_d2\\\\DevNode4_ex62_20.wav', 'dataCutting/water/dcase2018_washdishing_d2\\\\DevNode4_ex65_15.wav', 'dataCutting/water/dcase2018_washdishing_d2\\\\DevNode4_ex65_16.wav']\n"
     ]
    }
   ],
   "source": [
    "# dcase2018 watersound in class dishwashing (meat-labeling.xlsx - dishwashing-d2)\n",
    "file_list =glob.glob('dataCutting/water/dcase2018_washdishing_d2/*')\n",
    "print(file_list)"
   ]
  },
  {
   "cell_type": "code",
   "execution_count": 4,
   "metadata": {},
   "outputs": [
    {
     "name": "stdout",
     "output_type": "stream",
     "text": [
      "DevNode1_ex56_1.wav\n",
      "DevNode1_ex57_18.wav\n",
      "DevNode1_ex57_36.wav\n",
      "DevNode1_ex58_42.wav\n",
      "DevNode1_ex58_5.wav\n",
      "DevNode1_ex60_44.wav\n",
      "DevNode1_ex61_23.wav\n",
      "DevNode1_ex61_32.wav\n",
      "DevNode1_ex62_1.wav\n",
      "DevNode1_ex62_20.wav\n",
      "DevNode1_ex65_15.wav\n",
      "DevNode1_ex65_16.wav\n",
      "DevNode2_ex56_1.wav\n",
      "DevNode2_ex57_18.wav\n",
      "DevNode2_ex57_36.wav\n",
      "DevNode2_ex58_42.wav\n",
      "DevNode2_ex58_5.wav\n",
      "DevNode2_ex60_44.wav\n",
      "DevNode2_ex61_23.wav\n",
      "DevNode2_ex61_32.wav\n",
      "DevNode2_ex62_1.wav\n",
      "DevNode2_ex62_20.wav\n",
      "DevNode2_ex65_15.wav\n",
      "DevNode2_ex65_16.wav\n",
      "DevNode3_ex56_1.wav\n",
      "DevNode3_ex57_18.wav\n",
      "DevNode3_ex57_36.wav\n",
      "DevNode3_ex58_42.wav\n",
      "DevNode3_ex58_5.wav\n",
      "DevNode3_ex60_44.wav\n",
      "DevNode3_ex61_23.wav\n",
      "DevNode3_ex61_32.wav\n",
      "DevNode3_ex62_1.wav\n",
      "DevNode3_ex62_20.wav\n",
      "DevNode3_ex65_15.wav\n",
      "DevNode3_ex65_16.wav\n",
      "DevNode4_ex56_1.wav\n",
      "DevNode4_ex57_18.wav\n",
      "DevNode4_ex57_36.wav\n",
      "DevNode4_ex58_42.wav\n",
      "DevNode4_ex58_5.wav\n",
      "DevNode4_ex60_44.wav\n",
      "DevNode4_ex61_23.wav\n",
      "DevNode4_ex61_32.wav\n",
      "DevNode4_ex62_1.wav\n",
      "DevNode4_ex62_20.wav\n",
      "DevNode4_ex65_15.wav\n",
      "DevNode4_ex65_16.wav\n"
     ]
    }
   ],
   "source": [
    "for wav in file_list:\n",
    "    if wav.endswith('.wav') :\n",
    "        file_id=os.path.basename(wav)\n",
    "        print(file_id)\n",
    "        original = AudioSegment.from_wav(wav)\n",
    "        #pydub는 milliseconds 단위를 사용한다\n",
    "        t1=0*1000\n",
    "        t2=5*1000\n",
    "        t3=10*1000\n",
    "        front_wav= original[t1:t2]\n",
    "        front_wav.export('front'+file_id,format=\"wav\")\n",
    "        backWav= original[t2:t3]\n",
    "        backWav.export('back'+file_id,format=\"wav\")"
   ]
  },
  {
   "cell_type": "code",
   "execution_count": 23,
   "metadata": {},
   "outputs": [],
   "source": [
    "#wav=AudioSegment.from_wav(\"dataCutting/water/dcase2018_washdishing_d2/DevNode3_ex62_1.wav\")"
   ]
  },
  {
   "cell_type": "code",
   "execution_count": null,
   "metadata": {},
   "outputs": [],
   "source": [
    "# dropping object sound custom cut\n",
    "\n",
    "#Vol.87 Drop Objects Sound Effects\n"
   ]
  },
  {
   "cell_type": "code",
   "execution_count": 31,
   "metadata": {},
   "outputs": [],
   "source": [
    "def cuttingBasedOnTime(wav,a,b):\n",
    "    original = AudioSegment.from_wav(wav)\n",
    "    file_id=os.path.basename(wav)\n",
    "    t1=a*1000\n",
    "    t2=b*1000\n",
    "    cut_wav=original[t1:t2]\n",
    "    cut_wav.export('cut0'+str(b-a)+'_'+str(a)+'_'+file_id,format=\"wav\")\n",
    "    "
   ]
  },
  {
   "cell_type": "code",
   "execution_count": 32,
   "metadata": {},
   "outputs": [],
   "source": [
    "# 13\n",
    "cuttingBasedOnTime(\"dataCutting/dropping_object/Vol.87 Drop Objects Sound Effects/13. Hammer Drop by sagetyrtle Id-75307.wav\",0,2)\n",
    "cuttingBasedOnTime(\"dataCutting/dropping_object/Vol.87 Drop Objects Sound Effects/13. Hammer Drop by sagetyrtle Id-75307.wav\",2,6)\n",
    "cuttingBasedOnTime(\"dataCutting/dropping_object/Vol.87 Drop Objects Sound Effects/13. Hammer Drop by sagetyrtle Id-75307.wav\",6,8)"
   ]
  },
  {
   "cell_type": "code",
   "execution_count": 42,
   "metadata": {},
   "outputs": [],
   "source": [
    "#30\n",
    "cuttingBasedOnTime(\"dataCutting/dropping_object/Vol.87 Drop Objects Sound Effects/30. Key Pick Up Drop by LamaMakesMusic Id-403582.wav\",0,3)\n",
    "cuttingBasedOnTime(\"dataCutting/dropping_object/Vol.87 Drop Objects Sound Effects/30. Key Pick Up Drop by LamaMakesMusic Id-403582.wav\",4,9)\n",
    "cuttingBasedOnTime(\"dataCutting/dropping_object/Vol.87 Drop Objects Sound Effects/30. Key Pick Up Drop by LamaMakesMusic Id-403582.wav\",7,10)\n"
   ]
  },
  {
   "cell_type": "code",
   "execution_count": 47,
   "metadata": {},
   "outputs": [],
   "source": [
    "#10\n",
    "cuttingBasedOnTime(\"dataCutting/dropping_object/Vol.87 Drop Objects Sound Effects/10. Dropping Bag Of Bread by qubodup Id-189312.wav\",0,2)\n",
    "cuttingBasedOnTime(\"dataCutting/dropping_object/Vol.87 Drop Objects Sound Effects/10. Dropping Bag Of Bread by qubodup Id-189312.wav\",2,5)\n",
    "cuttingBasedOnTime(\"dataCutting/dropping_object/Vol.87 Drop Objects Sound Effects/10. Dropping Bag Of Bread by qubodup Id-189312.wav\",2,6)\n",
    "cuttingBasedOnTime(\"dataCutting/dropping_object/Vol.87 Drop Objects Sound Effects/10. Dropping Bag Of Bread by qubodup Id-189312.wav\",5,10)"
   ]
  },
  {
   "cell_type": "code",
   "execution_count": null,
   "metadata": {},
   "outputs": [],
   "source": []
  }
 ],
 "metadata": {
  "kernelspec": {
   "display_name": "Python 3",
   "language": "python",
   "name": "python3"
  },
  "language_info": {
   "codemirror_mode": {
    "name": "ipython",
    "version": 3
   },
   "file_extension": ".py",
   "mimetype": "text/x-python",
   "name": "python",
   "nbconvert_exporter": "python",
   "pygments_lexer": "ipython3",
   "version": "3.7.6"
  }
 },
 "nbformat": 4,
 "nbformat_minor": 4
}
