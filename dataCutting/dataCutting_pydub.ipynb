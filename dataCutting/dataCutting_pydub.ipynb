{
 "cells": [
  {
   "cell_type": "code",
   "execution_count": 1,
   "metadata": {},
   "outputs": [],
   "source": [
    "from pydub import AudioSegment\n",
    "import glob\n",
    "import os"
   ]
  },
  {
   "cell_type": "code",
   "execution_count": 6,
   "metadata": {},
   "outputs": [
    {
     "name": "stdout",
     "output_type": "stream",
     "text": [
      "['dataCutting/water/dcase2018_washdishing_d2\\\\desktop.ini', 'dataCutting/water/dcase2018_washdishing_d2\\\\DevNode1_ex56_1.wav', 'dataCutting/water/dcase2018_washdishing_d2\\\\DevNode1_ex57_18.wav', 'dataCutting/water/dcase2018_washdishing_d2\\\\DevNode1_ex57_36.wav', 'dataCutting/water/dcase2018_washdishing_d2\\\\DevNode1_ex58_42.wav', 'dataCutting/water/dcase2018_washdishing_d2\\\\DevNode1_ex58_5.wav', 'dataCutting/water/dcase2018_washdishing_d2\\\\DevNode1_ex60_44.wav', 'dataCutting/water/dcase2018_washdishing_d2\\\\DevNode1_ex61_23.wav', 'dataCutting/water/dcase2018_washdishing_d2\\\\DevNode1_ex61_32.wav', 'dataCutting/water/dcase2018_washdishing_d2\\\\DevNode1_ex62_1.wav', 'dataCutting/water/dcase2018_washdishing_d2\\\\DevNode1_ex62_20.wav', 'dataCutting/water/dcase2018_washdishing_d2\\\\DevNode1_ex65_15.wav', 'dataCutting/water/dcase2018_washdishing_d2\\\\DevNode1_ex65_16.wav', 'dataCutting/water/dcase2018_washdishing_d2\\\\DevNode2_ex56_1.wav', 'dataCutting/water/dcase2018_washdishing_d2\\\\DevNode2_ex57_18.wav', 'dataCutting/water/dcase2018_washdishing_d2\\\\DevNode2_ex57_36.wav', 'dataCutting/water/dcase2018_washdishing_d2\\\\DevNode2_ex58_42.wav', 'dataCutting/water/dcase2018_washdishing_d2\\\\DevNode2_ex58_5.wav', 'dataCutting/water/dcase2018_washdishing_d2\\\\DevNode2_ex60_44.wav', 'dataCutting/water/dcase2018_washdishing_d2\\\\DevNode2_ex61_23.wav', 'dataCutting/water/dcase2018_washdishing_d2\\\\DevNode2_ex61_32.wav', 'dataCutting/water/dcase2018_washdishing_d2\\\\DevNode2_ex62_1.wav', 'dataCutting/water/dcase2018_washdishing_d2\\\\DevNode2_ex62_20.wav', 'dataCutting/water/dcase2018_washdishing_d2\\\\DevNode2_ex65_15.wav', 'dataCutting/water/dcase2018_washdishing_d2\\\\DevNode2_ex65_16.wav', 'dataCutting/water/dcase2018_washdishing_d2\\\\DevNode3_ex56_1.wav', 'dataCutting/water/dcase2018_washdishing_d2\\\\DevNode3_ex57_18.wav', 'dataCutting/water/dcase2018_washdishing_d2\\\\DevNode3_ex57_36.wav', 'dataCutting/water/dcase2018_washdishing_d2\\\\DevNode3_ex58_42.wav', 'dataCutting/water/dcase2018_washdishing_d2\\\\DevNode3_ex58_5.wav', 'dataCutting/water/dcase2018_washdishing_d2\\\\DevNode3_ex60_44.wav', 'dataCutting/water/dcase2018_washdishing_d2\\\\DevNode3_ex61_23.wav', 'dataCutting/water/dcase2018_washdishing_d2\\\\DevNode3_ex61_32.wav', 'dataCutting/water/dcase2018_washdishing_d2\\\\DevNode3_ex62_1.wav', 'dataCutting/water/dcase2018_washdishing_d2\\\\DevNode3_ex62_20.wav', 'dataCutting/water/dcase2018_washdishing_d2\\\\DevNode3_ex65_15.wav', 'dataCutting/water/dcase2018_washdishing_d2\\\\DevNode3_ex65_16.wav', 'dataCutting/water/dcase2018_washdishing_d2\\\\DevNode4_ex56_1.wav', 'dataCutting/water/dcase2018_washdishing_d2\\\\DevNode4_ex57_18.wav', 'dataCutting/water/dcase2018_washdishing_d2\\\\DevNode4_ex57_36.wav', 'dataCutting/water/dcase2018_washdishing_d2\\\\DevNode4_ex58_42.wav', 'dataCutting/water/dcase2018_washdishing_d2\\\\DevNode4_ex58_5.wav', 'dataCutting/water/dcase2018_washdishing_d2\\\\DevNode4_ex60_44.wav', 'dataCutting/water/dcase2018_washdishing_d2\\\\DevNode4_ex61_23.wav', 'dataCutting/water/dcase2018_washdishing_d2\\\\DevNode4_ex61_32.wav', 'dataCutting/water/dcase2018_washdishing_d2\\\\DevNode4_ex62_1.wav', 'dataCutting/water/dcase2018_washdishing_d2\\\\DevNode4_ex62_20.wav', 'dataCutting/water/dcase2018_washdishing_d2\\\\DevNode4_ex65_15.wav', 'dataCutting/water/dcase2018_washdishing_d2\\\\DevNode4_ex65_16.wav']\n"
     ]
    }
   ],
   "source": [
    "# dcase2018 watersound in class dishwashing (meat-labeling.xlsx - dishwashing-d2)\n",
    "file_list =glob.glob('dataCutting/water/dcase2018_washdishing_d2/*')\n",
    "print(file_list)"
   ]
  },
  {
   "cell_type": "code",
   "execution_count": 8,
   "metadata": {},
   "outputs": [
    {
     "name": "stdout",
     "output_type": "stream",
     "text": [
      "DevNode1_ex56_1.wav\n",
      "DevNode1_ex57_18.wav\n",
      "DevNode1_ex57_36.wav\n",
      "DevNode1_ex58_42.wav\n",
      "DevNode1_ex58_5.wav\n",
      "DevNode1_ex60_44.wav\n",
      "DevNode1_ex61_23.wav\n",
      "DevNode1_ex61_32.wav\n",
      "DevNode1_ex62_1.wav\n",
      "DevNode1_ex62_20.wav\n",
      "DevNode1_ex65_15.wav\n",
      "DevNode1_ex65_16.wav\n",
      "DevNode2_ex56_1.wav\n",
      "DevNode2_ex57_18.wav\n",
      "DevNode2_ex57_36.wav\n",
      "DevNode2_ex58_42.wav\n",
      "DevNode2_ex58_5.wav\n",
      "DevNode2_ex60_44.wav\n",
      "DevNode2_ex61_23.wav\n",
      "DevNode2_ex61_32.wav\n",
      "DevNode2_ex62_1.wav\n",
      "DevNode2_ex62_20.wav\n",
      "DevNode2_ex65_15.wav\n",
      "DevNode2_ex65_16.wav\n",
      "DevNode3_ex56_1.wav\n",
      "DevNode3_ex57_18.wav\n",
      "DevNode3_ex57_36.wav\n",
      "DevNode3_ex58_42.wav\n",
      "DevNode3_ex58_5.wav\n",
      "DevNode3_ex60_44.wav\n",
      "DevNode3_ex61_23.wav\n",
      "DevNode3_ex61_32.wav\n",
      "DevNode3_ex62_1.wav\n",
      "DevNode3_ex62_20.wav\n",
      "DevNode3_ex65_15.wav\n",
      "DevNode3_ex65_16.wav\n",
      "DevNode4_ex56_1.wav\n",
      "DevNode4_ex57_18.wav\n",
      "DevNode4_ex57_36.wav\n",
      "DevNode4_ex58_42.wav\n",
      "DevNode4_ex58_5.wav\n",
      "DevNode4_ex60_44.wav\n",
      "DevNode4_ex61_23.wav\n",
      "DevNode4_ex61_32.wav\n",
      "DevNode4_ex62_1.wav\n",
      "DevNode4_ex62_20.wav\n",
      "DevNode4_ex65_15.wav\n",
      "DevNode4_ex65_16.wav\n"
     ]
    }
   ],
   "source": [
    "for wav in file_list:\n",
    "    if wav.endswith('.wav') :\n",
    "        file_id=os.path.basename(wav)\n",
    "        print(file_id)\n",
    "        original = wav=AudioSegment.from_wav(wav)\n",
    "        #pydub는 milliseconds 단위를 사용한다\n",
    "        t1=0*1000\n",
    "        t2=5*1000\n",
    "        t3=10*1000\n",
    "        front_wav= wav[t1:t2]\n",
    "        front_wav.export('front'+file_id,format=\"wav\")\n",
    "        backWav= wav[t2:t3]\n",
    "        backWav.export('back'+file_id,format=\"wav\")"
   ]
  },
  {
   "cell_type": "code",
   "execution_count": 23,
   "metadata": {},
   "outputs": [],
   "source": [
    "#wav=AudioSegment.from_wav(\"dataCutting/water/dcase2018_washdishing_d2/DevNode3_ex62_1.wav\")"
   ]
  }
 ],
 "metadata": {
  "kernelspec": {
   "display_name": "Python 3",
   "language": "python",
   "name": "python3"
  },
  "language_info": {
   "codemirror_mode": {
    "name": "ipython",
    "version": 3
   },
   "file_extension": ".py",
   "mimetype": "text/x-python",
   "name": "python",
   "nbconvert_exporter": "python",
   "pygments_lexer": "ipython3",
   "version": "3.7.6"
  }
 },
 "nbformat": 4,
 "nbformat_minor": 4
}
